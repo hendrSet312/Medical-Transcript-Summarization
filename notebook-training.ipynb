{
 "cells": [
  {
   "cell_type": "code",
   "execution_count": 19,
   "metadata": {
    "collapsed": true,
    "execution": {
     "iopub.execute_input": "2025-07-20T12:18:59.568560Z",
     "iopub.status.busy": "2025-07-20T12:18:59.568294Z",
     "iopub.status.idle": "2025-07-20T12:19:03.094992Z",
     "shell.execute_reply": "2025-07-20T12:19:03.093984Z",
     "shell.execute_reply.started": "2025-07-20T12:18:59.568538Z"
    },
    "id": "-bAXDu4TnLHw",
    "jupyter": {
     "outputs_hidden": true
    },
    "trusted": true
   },
   "outputs": [
    {
     "name": "stdout",
     "output_type": "stream",
     "text": [
      "Requirement already satisfied: bert-score in /usr/local/lib/python3.11/dist-packages (0.3.13)\n",
      "Requirement already satisfied: torch>=1.0.0 in /usr/local/lib/python3.11/dist-packages (from bert-score) (2.7.0)\n",
      "Requirement already satisfied: pandas>=1.0.1 in /usr/local/lib/python3.11/dist-packages (from bert-score) (2.2.3)\n",
      "Requirement already satisfied: transformers>=3.0.0 in /usr/local/lib/python3.11/dist-packages (from bert-score) (4.52.4)\n",
      "Requirement already satisfied: numpy in /usr/local/lib/python3.11/dist-packages (from bert-score) (1.26.4)\n",
      "Requirement already satisfied: requests in /usr/local/lib/python3.11/dist-packages (from bert-score) (2.32.4)\n",
      "Requirement already satisfied: tqdm>=4.31.1 in /usr/local/lib/python3.11/dist-packages (from bert-score) (4.67.1)\n",
      "Requirement already satisfied: matplotlib in /usr/local/lib/python3.11/dist-packages (from bert-score) (3.7.2)\n",
      "Requirement already satisfied: packaging>=20.9 in /usr/local/lib/python3.11/dist-packages (from bert-score) (25.0)\n",
      "Requirement already satisfied: python-dateutil>=2.8.2 in /usr/local/lib/python3.11/dist-packages (from pandas>=1.0.1->bert-score) (2.9.0.post0)\n",
      "Requirement already satisfied: pytz>=2020.1 in /usr/local/lib/python3.11/dist-packages (from pandas>=1.0.1->bert-score) (2025.2)\n",
      "Requirement already satisfied: tzdata>=2022.7 in /usr/local/lib/python3.11/dist-packages (from pandas>=1.0.1->bert-score) (2025.2)\n",
      "Requirement already satisfied: mkl_fft in /usr/local/lib/python3.11/dist-packages (from numpy->bert-score) (1.3.8)\n",
      "Requirement already satisfied: mkl_random in /usr/local/lib/python3.11/dist-packages (from numpy->bert-score) (1.2.4)\n",
      "Requirement already satisfied: mkl_umath in /usr/local/lib/python3.11/dist-packages (from numpy->bert-score) (0.1.1)\n",
      "Requirement already satisfied: mkl in /usr/local/lib/python3.11/dist-packages (from numpy->bert-score) (2025.2.0)\n",
      "Requirement already satisfied: tbb4py in /usr/local/lib/python3.11/dist-packages (from numpy->bert-score) (2022.2.0)\n",
      "Requirement already satisfied: mkl-service in /usr/local/lib/python3.11/dist-packages (from numpy->bert-score) (2.4.1)\n",
      "Requirement already satisfied: filelock in /usr/local/lib/python3.11/dist-packages (from torch>=1.0.0->bert-score) (3.18.0)\n",
      "Requirement already satisfied: typing-extensions>=4.10.0 in /usr/local/lib/python3.11/dist-packages (from torch>=1.0.0->bert-score) (4.14.0)\n",
      "Requirement already satisfied: sympy>=1.13.3 in /usr/local/lib/python3.11/dist-packages (from torch>=1.0.0->bert-score) (1.14.0)\n",
      "Requirement already satisfied: networkx in /usr/local/lib/python3.11/dist-packages (from torch>=1.0.0->bert-score) (3.5)\n",
      "Requirement already satisfied: jinja2 in /usr/local/lib/python3.11/dist-packages (from torch>=1.0.0->bert-score) (3.1.6)\n",
      "Requirement already satisfied: fsspec in /usr/local/lib/python3.11/dist-packages (from torch>=1.0.0->bert-score) (2025.3.0)\n",
      "Requirement already satisfied: nvidia-cuda-nvrtc-cu12==12.6.77 in /usr/local/lib/python3.11/dist-packages (from torch>=1.0.0->bert-score) (12.6.77)\n",
      "Requirement already satisfied: nvidia-cuda-runtime-cu12==12.6.77 in /usr/local/lib/python3.11/dist-packages (from torch>=1.0.0->bert-score) (12.6.77)\n",
      "Requirement already satisfied: nvidia-cuda-cupti-cu12==12.6.80 in /usr/local/lib/python3.11/dist-packages (from torch>=1.0.0->bert-score) (12.6.80)\n",
      "Requirement already satisfied: nvidia-cudnn-cu12==9.5.1.17 in /usr/local/lib/python3.11/dist-packages (from torch>=1.0.0->bert-score) (9.5.1.17)\n",
      "Requirement already satisfied: nvidia-cublas-cu12==12.6.4.1 in /usr/local/lib/python3.11/dist-packages (from torch>=1.0.0->bert-score) (12.6.4.1)\n",
      "Requirement already satisfied: nvidia-cufft-cu12==11.3.0.4 in /usr/local/lib/python3.11/dist-packages (from torch>=1.0.0->bert-score) (11.3.0.4)\n",
      "Requirement already satisfied: nvidia-curand-cu12==10.3.7.77 in /usr/local/lib/python3.11/dist-packages (from torch>=1.0.0->bert-score) (10.3.7.77)\n",
      "Requirement already satisfied: nvidia-cusolver-cu12==11.7.1.2 in /usr/local/lib/python3.11/dist-packages (from torch>=1.0.0->bert-score) (11.7.1.2)\n",
      "Requirement already satisfied: nvidia-cusparse-cu12==12.5.4.2 in /usr/local/lib/python3.11/dist-packages (from torch>=1.0.0->bert-score) (12.5.4.2)\n",
      "Requirement already satisfied: nvidia-cusparselt-cu12==0.6.3 in /usr/local/lib/python3.11/dist-packages (from torch>=1.0.0->bert-score) (0.6.3)\n",
      "Requirement already satisfied: nvidia-nccl-cu12==2.26.2 in /usr/local/lib/python3.11/dist-packages (from torch>=1.0.0->bert-score) (2.26.2)\n",
      "Requirement already satisfied: nvidia-nvtx-cu12==12.6.77 in /usr/local/lib/python3.11/dist-packages (from torch>=1.0.0->bert-score) (12.6.77)\n",
      "Requirement already satisfied: nvidia-nvjitlink-cu12==12.6.85 in /usr/local/lib/python3.11/dist-packages (from torch>=1.0.0->bert-score) (12.6.85)\n",
      "Requirement already satisfied: nvidia-cufile-cu12==1.11.1.6 in /usr/local/lib/python3.11/dist-packages (from torch>=1.0.0->bert-score) (1.11.1.6)\n",
      "Requirement already satisfied: triton==3.3.0 in /usr/local/lib/python3.11/dist-packages (from torch>=1.0.0->bert-score) (3.3.0)\n",
      "Requirement already satisfied: setuptools>=40.8.0 in /usr/local/lib/python3.11/dist-packages (from triton==3.3.0->torch>=1.0.0->bert-score) (75.2.0)\n",
      "Requirement already satisfied: huggingface-hub<1.0,>=0.30.0 in /usr/local/lib/python3.11/dist-packages (from transformers>=3.0.0->bert-score) (0.33.1)\n",
      "Requirement already satisfied: pyyaml>=5.1 in /usr/local/lib/python3.11/dist-packages (from transformers>=3.0.0->bert-score) (6.0.2)\n",
      "Requirement already satisfied: regex!=2019.12.17 in /usr/local/lib/python3.11/dist-packages (from transformers>=3.0.0->bert-score) (2024.11.6)\n",
      "Requirement already satisfied: tokenizers<0.22,>=0.21 in /usr/local/lib/python3.11/dist-packages (from transformers>=3.0.0->bert-score) (0.21.2)\n",
      "Requirement already satisfied: safetensors>=0.4.3 in /usr/local/lib/python3.11/dist-packages (from transformers>=3.0.0->bert-score) (0.5.3)\n",
      "Requirement already satisfied: contourpy>=1.0.1 in /usr/local/lib/python3.11/dist-packages (from matplotlib->bert-score) (1.3.2)\n",
      "Requirement already satisfied: cycler>=0.10 in /usr/local/lib/python3.11/dist-packages (from matplotlib->bert-score) (0.12.1)\n",
      "Requirement already satisfied: fonttools>=4.22.0 in /usr/local/lib/python3.11/dist-packages (from matplotlib->bert-score) (4.58.4)\n",
      "Requirement already satisfied: kiwisolver>=1.0.1 in /usr/local/lib/python3.11/dist-packages (from matplotlib->bert-score) (1.4.8)\n",
      "Requirement already satisfied: pillow>=6.2.0 in /usr/local/lib/python3.11/dist-packages (from matplotlib->bert-score) (11.2.1)\n",
      "Requirement already satisfied: pyparsing<3.1,>=2.3.1 in /usr/local/lib/python3.11/dist-packages (from matplotlib->bert-score) (3.0.9)\n",
      "Requirement already satisfied: charset_normalizer<4,>=2 in /usr/local/lib/python3.11/dist-packages (from requests->bert-score) (3.4.2)\n",
      "Requirement already satisfied: idna<4,>=2.5 in /usr/local/lib/python3.11/dist-packages (from requests->bert-score) (3.10)\n",
      "Requirement already satisfied: urllib3<3,>=1.21.1 in /usr/local/lib/python3.11/dist-packages (from requests->bert-score) (2.5.0)\n",
      "Requirement already satisfied: certifi>=2017.4.17 in /usr/local/lib/python3.11/dist-packages (from requests->bert-score) (2025.6.15)\n",
      "Requirement already satisfied: hf-xet<2.0.0,>=1.1.2 in /usr/local/lib/python3.11/dist-packages (from huggingface-hub<1.0,>=0.30.0->transformers>=3.0.0->bert-score) (1.1.5)\n",
      "Requirement already satisfied: six>=1.5 in /usr/local/lib/python3.11/dist-packages (from python-dateutil>=2.8.2->pandas>=1.0.1->bert-score) (1.17.0)\n",
      "Requirement already satisfied: mpmath<1.4,>=1.1.0 in /usr/local/lib/python3.11/dist-packages (from sympy>=1.13.3->torch>=1.0.0->bert-score) (1.3.0)\n",
      "Requirement already satisfied: MarkupSafe>=2.0 in /usr/local/lib/python3.11/dist-packages (from jinja2->torch>=1.0.0->bert-score) (3.0.2)\n",
      "Requirement already satisfied: intel-openmp<2026,>=2024 in /usr/local/lib/python3.11/dist-packages (from mkl->numpy->bert-score) (2024.2.0)\n",
      "Requirement already satisfied: tbb==2022.* in /usr/local/lib/python3.11/dist-packages (from mkl->numpy->bert-score) (2022.2.0)\n",
      "Requirement already satisfied: tcmlib==1.* in /usr/local/lib/python3.11/dist-packages (from tbb==2022.*->mkl->numpy->bert-score) (1.4.0)\n",
      "Requirement already satisfied: intel-cmplr-lib-rt in /usr/local/lib/python3.11/dist-packages (from mkl_umath->numpy->bert-score) (2024.2.0)\n",
      "Requirement already satisfied: intel-cmplr-lib-ur==2024.2.0 in /usr/local/lib/python3.11/dist-packages (from intel-openmp<2026,>=2024->mkl->numpy->bert-score) (2024.2.0)\n"
     ]
    }
   ],
   "source": [
    "%%capture\n",
    "!pip install pip3-autoremove\n",
    "!pip-autoremove torch torchvision torchaudio -y\n",
    "!pip install torch==2.6.0 torchvision torchaudio xformers --index-url https://download.pytorch.org/whl/cu121\n",
    "!pip install unsloth==2025.6.2\n",
    "!pip install evaluate\n",
    "!pip install rouge_score\n",
    "!pip install keybert\n",
    "!pip install bert-score"
   ]
  },
  {
   "cell_type": "code",
   "execution_count": 2,
   "metadata": {
    "execution": {
     "iopub.execute_input": "2025-07-20T08:44:30.530668Z",
     "iopub.status.busy": "2025-07-20T08:44:30.529920Z",
     "iopub.status.idle": "2025-07-20T08:45:04.941973Z",
     "shell.execute_reply": "2025-07-20T08:45:04.941189Z",
     "shell.execute_reply.started": "2025-07-20T08:44:30.530637Z"
    },
    "trusted": true
   },
   "outputs": [
    {
     "name": "stdout",
     "output_type": "stream",
     "text": [
      "🦥 Unsloth: Will patch your computer to enable 2x faster free finetuning.\n"
     ]
    },
    {
     "name": "stderr",
     "output_type": "stream",
     "text": [
      "2025-07-20 08:44:39.897472: E external/local_xla/xla/stream_executor/cuda/cuda_fft.cc:477] Unable to register cuFFT factory: Attempting to register factory for plugin cuFFT when one has already been registered\n",
      "WARNING: All log messages before absl::InitializeLog() is called are written to STDERR\n",
      "E0000 00:00:1753001080.097893     148 cuda_dnn.cc:8310] Unable to register cuDNN factory: Attempting to register factory for plugin cuDNN when one has already been registered\n",
      "E0000 00:00:1753001080.153740     148 cuda_blas.cc:1418] Unable to register cuBLAS factory: Attempting to register factory for plugin cuBLAS when one has already been registered\n"
     ]
    },
    {
     "name": "stdout",
     "output_type": "stream",
     "text": [
      "🦥 Unsloth Zoo will now patch everything to make training faster!\n"
     ]
    }
   ],
   "source": [
    "from unsloth import FastLanguageModel\n",
    "from datasets import Dataset\n",
    "from nltk.corpus import stopwords\n",
    "from nltk.tokenize import word_tokenize,sent_tokenize\n",
    "import nltk\n",
    "import pandas as pd\n",
    "import matplotlib.pyplot as plt \n",
    "import torch\n",
    "import os\n",
    "import re\n",
    "import numpy as np\n",
    "import seaborn as sns\n",
    "from datasets import Dataset, DatasetDict\n",
    "from sklearn.model_selection import train_test_split\n",
    "from sklearn.metrics import classification_report\n",
    "import evaluate\n",
    "from tqdm import tqdm\n",
    "import os\n",
    "from torch.utils.data import DataLoader\n",
    "from transformers import default_data_collator\n",
    "from keybert import KeyBERT"
   ]
  },
  {
   "cell_type": "code",
   "execution_count": 4,
   "metadata": {
    "execution": {
     "iopub.execute_input": "2025-07-20T08:45:04.949711Z",
     "iopub.status.busy": "2025-07-20T08:45:04.949131Z",
     "iopub.status.idle": "2025-07-20T08:45:04.976279Z",
     "shell.execute_reply": "2025-07-20T08:45:04.975398Z",
     "shell.execute_reply.started": "2025-07-20T08:45:04.949684Z"
    },
    "trusted": true
   },
   "outputs": [],
   "source": [
    "\n",
    "os.environ[\"PYTORCH_CUDA_ALLOC_CONF\"] = \"expandable_segments:True\"\n",
    "os.environ[\"TORCHINDUCTOR_DISABLE_AUTOTUNE\"] = \"1\"\n"
   ]
  },
  {
   "cell_type": "code",
   "execution_count": 7,
   "metadata": {
    "execution": {
     "iopub.execute_input": "2025-07-20T12:46:52.710002Z",
     "iopub.status.busy": "2025-07-20T12:46:52.709738Z",
     "iopub.status.idle": "2025-07-20T12:46:52.713648Z",
     "shell.execute_reply": "2025-07-20T12:46:52.712980Z",
     "shell.execute_reply.started": "2025-07-20T12:46:52.709982Z"
    },
    "trusted": true
   },
   "outputs": [],
   "source": [
    "device = torch.device(\"cuda\" if torch.cuda.is_available() else \"cpu\")"
   ]
  },
  {
   "cell_type": "code",
   "execution_count": 8,
   "metadata": {
    "execution": {
     "iopub.execute_input": "2025-07-20T12:46:57.325675Z",
     "iopub.status.busy": "2025-07-20T12:46:57.325405Z",
     "iopub.status.idle": "2025-07-20T12:46:57.495867Z",
     "shell.execute_reply": "2025-07-20T12:46:57.495243Z",
     "shell.execute_reply.started": "2025-07-20T12:46:57.325653Z"
    },
    "trusted": true
   },
   "outputs": [
    {
     "data": {
      "text/html": [
       "<div>\n",
       "<style scoped>\n",
       "    .dataframe tbody tr th:only-of-type {\n",
       "        vertical-align: middle;\n",
       "    }\n",
       "\n",
       "    .dataframe tbody tr th {\n",
       "        vertical-align: top;\n",
       "    }\n",
       "\n",
       "    .dataframe thead th {\n",
       "        text-align: right;\n",
       "    }\n",
       "</style>\n",
       "<table border=\"1\" class=\"dataframe\">\n",
       "  <thead>\n",
       "    <tr style=\"text-align: right;\">\n",
       "      <th></th>\n",
       "      <th>Unnamed: 0</th>\n",
       "      <th>description</th>\n",
       "      <th>medical_specialty</th>\n",
       "      <th>sample_name</th>\n",
       "      <th>transcription</th>\n",
       "      <th>keywords</th>\n",
       "    </tr>\n",
       "  </thead>\n",
       "  <tbody>\n",
       "    <tr>\n",
       "      <th>174</th>\n",
       "      <td>174</td>\n",
       "      <td>Austin &amp; Youngswick bunionectomy with Biopro ...</td>\n",
       "      <td>Surgery</td>\n",
       "      <td>Youngswick Bunionectomy</td>\n",
       "      <td>PREOPERATIVE DIAGNOSES:,1.  Hallux rigidus, le...</td>\n",
       "      <td>surgery, hallux rigidus, metatarsal, youngswic...</td>\n",
       "    </tr>\n",
       "    <tr>\n",
       "      <th>177</th>\n",
       "      <td>177</td>\n",
       "      <td>This patient has undergone cataract surgery, ...</td>\n",
       "      <td>Surgery</td>\n",
       "      <td>YAG Laser Capsulotomy - 1</td>\n",
       "      <td>PREOPERATIVE DIAGNOSIS: , Secondary capsular m...</td>\n",
       "      <td>surgery, abraham capsulotomy, yag, yag laser c...</td>\n",
       "    </tr>\n",
       "    <tr>\n",
       "      <th>179</th>\n",
       "      <td>179</td>\n",
       "      <td>Youngswick osteotomy with internal screw fixa...</td>\n",
       "      <td>Surgery</td>\n",
       "      <td>Youngswick Osteotomy</td>\n",
       "      <td>TITLE OF OPERATION: , Youngswick osteotomy wit...</td>\n",
       "      <td>surgery, hallux limitus deformity, metatarsoph...</td>\n",
       "    </tr>\n",
       "    <tr>\n",
       "      <th>181</th>\n",
       "      <td>181</td>\n",
       "      <td>Wound debridement with removal of Surgisis xe...</td>\n",
       "      <td>Surgery</td>\n",
       "      <td>Wound Debridement</td>\n",
       "      <td>PREOPERATIVE DIAGNOSES,1.  Open wound from rig...</td>\n",
       "      <td>surgery, open wound, prosthetic vascular graft...</td>\n",
       "    </tr>\n",
       "    <tr>\n",
       "      <th>182</th>\n",
       "      <td>182</td>\n",
       "      <td>Visually significant posterior capsule opacit...</td>\n",
       "      <td>Surgery</td>\n",
       "      <td>YAG Laser Capsulotomy</td>\n",
       "      <td>PREOPERATIVE DIAGNOSIS:,  Visually significant...</td>\n",
       "      <td>surgery, capsule opacity, yag, ophthalmic, yag...</td>\n",
       "    </tr>\n",
       "  </tbody>\n",
       "</table>\n",
       "</div>"
      ],
      "text/plain": [
       "     Unnamed: 0                                        description  \\\n",
       "174         174   Austin & Youngswick bunionectomy with Biopro ...   \n",
       "177         177   This patient has undergone cataract surgery, ...   \n",
       "179         179   Youngswick osteotomy with internal screw fixa...   \n",
       "181         181   Wound debridement with removal of Surgisis xe...   \n",
       "182         182   Visually significant posterior capsule opacit...   \n",
       "\n",
       "    medical_specialty                  sample_name  \\\n",
       "174           Surgery     Youngswick Bunionectomy    \n",
       "177           Surgery   YAG Laser Capsulotomy - 1    \n",
       "179           Surgery        Youngswick Osteotomy    \n",
       "181           Surgery           Wound Debridement    \n",
       "182           Surgery       YAG Laser Capsulotomy    \n",
       "\n",
       "                                         transcription  \\\n",
       "174  PREOPERATIVE DIAGNOSES:,1.  Hallux rigidus, le...   \n",
       "177  PREOPERATIVE DIAGNOSIS: , Secondary capsular m...   \n",
       "179  TITLE OF OPERATION: , Youngswick osteotomy wit...   \n",
       "181  PREOPERATIVE DIAGNOSES,1.  Open wound from rig...   \n",
       "182  PREOPERATIVE DIAGNOSIS:,  Visually significant...   \n",
       "\n",
       "                                              keywords  \n",
       "174  surgery, hallux rigidus, metatarsal, youngswic...  \n",
       "177  surgery, abraham capsulotomy, yag, yag laser c...  \n",
       "179  surgery, hallux limitus deformity, metatarsoph...  \n",
       "181  surgery, open wound, prosthetic vascular graft...  \n",
       "182  surgery, capsule opacity, yag, ophthalmic, yag...  "
      ]
     },
     "execution_count": 8,
     "metadata": {},
     "output_type": "execute_result"
    }
   ],
   "source": [
    "df = pd.read_csv(\"/kaggle/input/medicaltranscriptions/mtsamples.csv\")\n",
    "df = df[df['medical_specialty'].isin([' Surgery',' Orthopedic',' Consult - History and Phy.'])]\n",
    "df.head()"
   ]
  },
  {
   "cell_type": "code",
   "execution_count": 9,
   "metadata": {
    "execution": {
     "iopub.execute_input": "2025-07-20T12:46:58.350575Z",
     "iopub.status.busy": "2025-07-20T12:46:58.350300Z",
     "iopub.status.idle": "2025-07-20T12:46:58.360720Z",
     "shell.execute_reply": "2025-07-20T12:46:58.359778Z",
     "shell.execute_reply.started": "2025-07-20T12:46:58.350554Z"
    },
    "trusted": true
   },
   "outputs": [
    {
     "name": "stdout",
     "output_type": "stream",
     "text": [
      "<class 'pandas.core.frame.DataFrame'>\n",
      "Index: 1974 entries, 174 to 4602\n",
      "Data columns (total 6 columns):\n",
      " #   Column             Non-Null Count  Dtype \n",
      "---  ------             --------------  ----- \n",
      " 0   Unnamed: 0         1974 non-null   int64 \n",
      " 1   description        1974 non-null   object\n",
      " 2   medical_specialty  1974 non-null   object\n",
      " 3   sample_name        1974 non-null   object\n",
      " 4   transcription      1959 non-null   object\n",
      " 5   keywords           1573 non-null   object\n",
      "dtypes: int64(1), object(5)\n",
      "memory usage: 108.0+ KB\n"
     ]
    }
   ],
   "source": [
    "df.info()"
   ]
  },
  {
   "cell_type": "code",
   "execution_count": 10,
   "metadata": {
    "execution": {
     "iopub.execute_input": "2025-07-20T12:46:58.496870Z",
     "iopub.status.busy": "2025-07-20T12:46:58.496683Z",
     "iopub.status.idle": "2025-07-20T12:46:58.502839Z",
     "shell.execute_reply": "2025-07-20T12:46:58.502324Z",
     "shell.execute_reply.started": "2025-07-20T12:46:58.496856Z"
    },
    "trusted": true
   },
   "outputs": [
    {
     "data": {
      "text/plain": [
       "Unnamed: 0             0\n",
       "description            0\n",
       "medical_specialty      0\n",
       "sample_name            0\n",
       "transcription         15\n",
       "keywords             401\n",
       "dtype: int64"
      ]
     },
     "execution_count": 10,
     "metadata": {},
     "output_type": "execute_result"
    }
   ],
   "source": [
    "df.isna().sum()"
   ]
  },
  {
   "cell_type": "code",
   "execution_count": 11,
   "metadata": {
    "execution": {
     "iopub.execute_input": "2025-07-20T12:46:58.612310Z",
     "iopub.status.busy": "2025-07-20T12:46:58.612016Z",
     "iopub.status.idle": "2025-07-20T12:46:58.621254Z",
     "shell.execute_reply": "2025-07-20T12:46:58.620692Z",
     "shell.execute_reply.started": "2025-07-20T12:46:58.612283Z"
    },
    "trusted": true
   },
   "outputs": [
    {
     "name": "stdout",
     "output_type": "stream",
     "text": [
      "total duplicated row : 0\n"
     ]
    }
   ],
   "source": [
    "print(f'total duplicated row : {df.duplicated().sum()}')"
   ]
  },
  {
   "cell_type": "code",
   "execution_count": 13,
   "metadata": {
    "execution": {
     "iopub.execute_input": "2025-07-20T12:18:09.554548Z",
     "iopub.status.busy": "2025-07-20T12:18:09.553950Z",
     "iopub.status.idle": "2025-07-20T12:18:09.763560Z",
     "shell.execute_reply": "2025-07-20T12:18:09.762589Z",
     "shell.execute_reply.started": "2025-07-20T12:18:09.554526Z"
    },
    "trusted": true
   },
   "outputs": [
    {
     "data": {
      "image/png": "[encoded data removed]",
      "text/plain": [
       "<Figure size 1200x600 with 1 Axes>"
      ]
     },
     "metadata": {},
     "output_type": "display_data"
    }
   ],
   "source": [
    "\n",
    "counts = df['medical_specialty'].value_counts()[:10]\n",
    "\n",
    "colors = ['orange' if i == 0 else 'skyblue' for i in range(len(counts))]\n",
    "\n",
    "plt.figure(figsize=(12, 6))\n",
    "bars = plt.barh(counts.index, counts.values, color=colors)\n",
    "\n",
    "# Add count labels\n",
    "for bar in bars:\n",
    "    plt.text(bar.get_width() + 5, bar.get_y() + bar.get_height()/2,\n",
    "             str(int(bar.get_width())), va='center')\n",
    "\n",
    "plt.title('Top 10 Medical Specialty Transcription')\n",
    "plt.xlabel('Count')\n",
    "plt.gca().invert_yaxis()\n",
    "plt.tight_layout()\n",
    "plt.show()"
   ]
  },
  {
   "cell_type": "code",
   "execution_count": 12,
   "metadata": {
    "execution": {
     "iopub.execute_input": "2025-07-20T12:47:07.206718Z",
     "iopub.status.busy": "2025-07-20T12:47:07.206137Z",
     "iopub.status.idle": "2025-07-20T12:47:07.754862Z",
     "shell.execute_reply": "2025-07-20T12:47:07.754260Z",
     "shell.execute_reply.started": "2025-07-20T12:47:07.206695Z"
    },
    "trusted": true
   },
   "outputs": [],
   "source": [
    "df = df.dropna()\n",
    "\n",
    "def clean_transcription(text):\n",
    "    text = text.strip()  # Remove leading/trailing whitespaces\n",
    "    text = re.sub(r'\\s+', ' ', text)  # Remove excess spaces and newlines\n",
    "    text = re.sub(r'[^\\x00-\\x7F]+', ' ', text)  # Remove non-ASCII characters\n",
    "    text = re.sub(r\"([.,!?;])\", r\" \\1 \", text)  # Space around punctuation\n",
    "    text = re.sub(r'\\s{2,}', ' ', text)  # Remove multiple spaces\n",
    "    return text.strip()\n",
    "\n",
    "df['transcription'] = df['transcription'].apply(lambda x : clean_transcription(x))"
   ]
  },
  {
   "cell_type": "code",
   "execution_count": 13,
   "metadata": {
    "execution": {
     "iopub.execute_input": "2025-07-20T12:47:13.871350Z",
     "iopub.status.busy": "2025-07-20T12:47:13.870672Z",
     "iopub.status.idle": "2025-07-20T12:47:13.977470Z",
     "shell.execute_reply": "2025-07-20T12:47:13.976937Z",
     "shell.execute_reply.started": "2025-07-20T12:47:13.871329Z"
    },
    "trusted": true
   },
   "outputs": [],
   "source": [
    "df['sentence_words_count'] = df['transcription'].str.split().str.len()\n",
    "df['description_words_count'] = df['description'].str.split().str.len()"
   ]
  },
  {
   "cell_type": "code",
   "execution_count": 14,
   "metadata": {
    "execution": {
     "iopub.execute_input": "2025-07-20T12:47:15.484615Z",
     "iopub.status.busy": "2025-07-20T12:47:15.483842Z",
     "iopub.status.idle": "2025-07-20T12:47:16.077064Z",
     "shell.execute_reply": "2025-07-20T12:47:16.076032Z",
     "shell.execute_reply.started": "2025-07-20T12:47:15.484590Z"
    },
    "trusted": true
   },
   "outputs": [
    {
     "data": {
      "image/png": "[encoded data removed]",
      "text/plain": [
       "<Figure size 1200x500 with 2 Axes>"
      ]
     },
     "metadata": {},
     "output_type": "display_data"
    }
   ],
   "source": [
    "fig, axes = plt.subplots(1,2,figsize = (12,5))\n",
    "sns.histplot(data = df, x = 'sentence_words_count', ax = axes[0]).set_title('Transcription Words')\n",
    "sns.histplot(data = df, x = 'description_words_count', ax = axes[1]).set_title('Description Words')\n",
    "fig.tight_layout()"
   ]
  },
  {
   "cell_type": "code",
   "execution_count": 18,
   "metadata": {
    "execution": {
     "iopub.execute_input": "2025-07-20T12:47:37.991017Z",
     "iopub.status.busy": "2025-07-20T12:47:37.990738Z",
     "iopub.status.idle": "2025-07-20T12:47:37.996018Z",
     "shell.execute_reply": "2025-07-20T12:47:37.994910Z",
     "shell.execute_reply.started": "2025-07-20T12:47:37.990996Z"
    },
    "trusted": true
   },
   "outputs": [
    {
     "name": "stdout",
     "output_type": "stream",
     "text": [
      "median of words in the transcription : 492.5\n",
      "max of words in the transcription : 2242\n"
     ]
    }
   ],
   "source": [
    "print('median of words in the transcription :', df['sentence_words_count'].median())\n",
    "print('max of words in the transcription :', df['sentence_words_count'].max())"
   ]
  },
  {
   "cell_type": "code",
   "execution_count": 17,
   "metadata": {
    "execution": {
     "iopub.execute_input": "2025-07-20T12:47:28.654518Z",
     "iopub.status.busy": "2025-07-20T12:47:28.654200Z",
     "iopub.status.idle": "2025-07-20T12:47:28.659243Z",
     "shell.execute_reply": "2025-07-20T12:47:28.658588Z",
     "shell.execute_reply.started": "2025-07-20T12:47:28.654496Z"
    },
    "trusted": true
   },
   "outputs": [
    {
     "name": "stdout",
     "output_type": "stream",
     "text": [
      "median of words in the description : 17.0\n",
      "max of words in the description : 69\n"
     ]
    }
   ],
   "source": [
    "print('median of words in the description :', df['description_words_count'].median())\n",
    "print('max of words in the description :', df['description_words_count'].max())"
   ]
  },
  {
   "cell_type": "code",
   "execution_count": 19,
   "metadata": {
    "execution": {
     "iopub.execute_input": "2025-07-20T12:47:43.771628Z",
     "iopub.status.busy": "2025-07-20T12:47:43.771331Z",
     "iopub.status.idle": "2025-07-20T12:50:24.276168Z",
     "shell.execute_reply": "2025-07-20T12:50:24.275393Z",
     "shell.execute_reply.started": "2025-07-20T12:47:43.771607Z"
    },
    "trusted": true
   },
   "outputs": [
    {
     "data": {
      "application/vnd.jupyter.widget-view+json": {
       "model_id": "27d664557e734f7996d423586f43079d",
       "version_major": 2,
       "version_minor": 0
      },
      "text/plain": [
       "modules.json:   0%|          | 0.00/349 [00:00<?, ?B/s]"
      ]
     },
     "metadata": {},
     "output_type": "display_data"
    },
    {
     "data": {
      "application/vnd.jupyter.widget-view+json": {
       "model_id": "3c81620737a14db4814919fdf32baf22",
       "version_major": 2,
       "version_minor": 0
      },
      "text/plain": [
       "config_sentence_transformers.json:   0%|          | 0.00/116 [00:00<?, ?B/s]"
      ]
     },
     "metadata": {},
     "output_type": "display_data"
    },
    {
     "data": {
      "application/vnd.jupyter.widget-view+json": {
       "model_id": "e3aa5597044140858ccec71761c19aaa",
       "version_major": 2,
       "version_minor": 0
      },
      "text/plain": [
       "README.md: 0.00B [00:00, ?B/s]"
      ]
     },
     "metadata": {},
     "output_type": "display_data"
    },
    {
     "data": {
      "application/vnd.jupyter.widget-view+json": {
       "model_id": "be2660a7aea54c23affbc492b0532ead",
       "version_major": 2,
       "version_minor": 0
      },
      "text/plain": [
       "sentence_bert_config.json:   0%|          | 0.00/53.0 [00:00<?, ?B/s]"
      ]
     },
     "metadata": {},
     "output_type": "display_data"
    },
    {
     "data": {
      "application/vnd.jupyter.widget-view+json": {
       "model_id": "0787221222d04dc69ee2deeed7692819",
       "version_major": 2,
       "version_minor": 0
      },
      "text/plain": [
       "config.json:   0%|          | 0.00/612 [00:00<?, ?B/s]"
      ]
     },
     "metadata": {},
     "output_type": "display_data"
    },
    {
     "data": {
      "application/vnd.jupyter.widget-view+json": {
       "model_id": "8ba208069985425f95ed46865fbdd962",
       "version_major": 2,
       "version_minor": 0
      },
      "text/plain": [
       "model.safetensors:   0%|          | 0.00/90.9M [00:00<?, ?B/s]"
      ]
     },
     "metadata": {},
     "output_type": "display_data"
    },
    {
     "data": {
      "application/vnd.jupyter.widget-view+json": {
       "model_id": "dd9e82d8c23e43e5a4ec8816489917a2",
       "version_major": 2,
       "version_minor": 0
      },
      "text/plain": [
       "tokenizer_config.json:   0%|          | 0.00/350 [00:00<?, ?B/s]"
      ]
     },
     "metadata": {},
     "output_type": "display_data"
    },
    {
     "data": {
      "application/vnd.jupyter.widget-view+json": {
       "model_id": "8bfa45cfae164d519c16d8c68a0d445c",
       "version_major": 2,
       "version_minor": 0
      },
      "text/plain": [
       "vocab.txt: 0.00B [00:00, ?B/s]"
      ]
     },
     "metadata": {},
     "output_type": "display_data"
    },
    {
     "data": {
      "application/vnd.jupyter.widget-view+json": {
       "model_id": "300b3aaef77a493ea32f6a6c397f911c",
       "version_major": 2,
       "version_minor": 0
      },
      "text/plain": [
       "tokenizer.json: 0.00B [00:00, ?B/s]"
      ]
     },
     "metadata": {},
     "output_type": "display_data"
    },
    {
     "data": {
      "application/vnd.jupyter.widget-view+json": {
       "model_id": "fb022cbccde44c08a4e05423f9d25870",
       "version_major": 2,
       "version_minor": 0
      },
      "text/plain": [
       "special_tokens_map.json:   0%|          | 0.00/112 [00:00<?, ?B/s]"
      ]
     },
     "metadata": {},
     "output_type": "display_data"
    },
    {
     "data": {
      "application/vnd.jupyter.widget-view+json": {
       "model_id": "99cf0f9a715e4254a74e3563f55d9903",
       "version_major": 2,
       "version_minor": 0
      },
      "text/plain": [
       "config.json:   0%|          | 0.00/190 [00:00<?, ?B/s]"
      ]
     },
     "metadata": {},
     "output_type": "display_data"
    }
   ],
   "source": [
    "def extract_keywords_keybert(text, top_k=22):\n",
    "    keywords = kw_model.extract_keywords(text, keyphrase_ngram_range=(1, 2), top_n=top_k)\n",
    "    return ' '.join([kw for kw, _ in keywords])\n",
    "\n",
    "kw_model = KeyBERT()\n",
    "\n",
    "df['cleaned_transcript'] = df['transcription'].apply(extract_keywords_keybert)"
   ]
  },
  {
   "cell_type": "code",
   "execution_count": 20,
   "metadata": {
    "execution": {
     "iopub.execute_input": "2025-07-20T12:54:15.411944Z",
     "iopub.status.busy": "2025-07-20T12:54:15.411644Z",
     "iopub.status.idle": "2025-07-20T12:54:15.426228Z",
     "shell.execute_reply": "2025-07-20T12:54:15.425401Z",
     "shell.execute_reply.started": "2025-07-20T12:54:15.411924Z"
    },
    "trusted": true
   },
   "outputs": [
    {
     "name": "stdout",
     "output_type": "stream",
     "text": [
      "median words after cleaning :  41.0\n",
      "max words after cleaning :  44\n"
     ]
    }
   ],
   "source": [
    "df['sentence_words_count_after'] = df['cleaned_transcript'].str.split().str.len()\n",
    "print('median words after cleaning : ',df['sentence_words_count_after'].median())\n",
    "print('max words after cleaning : ',df['sentence_words_count_after'].max())"
   ]
  },
  {
   "cell_type": "code",
   "execution_count": 18,
   "metadata": {
    "execution": {
     "iopub.execute_input": "2025-07-20T08:47:51.877777Z",
     "iopub.status.busy": "2025-07-20T08:47:51.877530Z",
     "iopub.status.idle": "2025-07-20T08:48:05.580991Z",
     "shell.execute_reply": "2025-07-20T08:48:05.580156Z",
     "shell.execute_reply.started": "2025-07-20T08:47:51.877755Z"
    },
    "id": "QmUBVEnvCDJv",
    "outputId": "5eff0d61-05b4-471c-eea2-c2e84a915109",
    "trusted": true
   },
   "outputs": [
    {
     "name": "stdout",
     "output_type": "stream",
     "text": [
      "==((====))==  Unsloth 2025.6.2: Fast Granite patching. Transformers: 4.52.4.\n",
      "   \\\\   /|    Tesla T4. Num GPUs = 2. Max memory: 14.741 GB. Platform: Linux.\n",
      "O^O/ \\_/ \\    Torch: 2.7.0+cu126. CUDA: 7.5. CUDA Toolkit: 12.6. Triton: 3.3.0\n",
      "\\        /    Bfloat16 = FALSE. FA [Xformers = 0.0.30. FA2 = False]\n",
      " \"-____-\"     Free license: http://github.com/unslothai/unsloth\n",
      "Unsloth: Fast downloading is enabled - ignore downloading bars which are red colored!\n"
     ]
    },
    {
     "data": {
      "application/vnd.jupyter.widget-view+json": {
       "model_id": "3c514969deea41e5b59725b9e33b4c50",
       "version_major": 2,
       "version_minor": 0
      },
      "text/plain": [
       "model.safetensors:   0%|          | 0.00/1.83G [00:00<?, ?B/s]"
      ]
     },
     "metadata": {},
     "output_type": "display_data"
    },
    {
     "data": {
      "application/vnd.jupyter.widget-view+json": {
       "model_id": "ee8f4ca98c54438fa1ad1ac1e61d3f3d",
       "version_major": 2,
       "version_minor": 0
      },
      "text/plain": [
       "generation_config.json:   0%|          | 0.00/156 [00:00<?, ?B/s]"
      ]
     },
     "metadata": {},
     "output_type": "display_data"
    },
    {
     "data": {
      "application/vnd.jupyter.widget-view+json": {
       "model_id": "cb6dcc6f23f547fd9707df02cd9a6376",
       "version_major": 2,
       "version_minor": 0
      },
      "text/plain": [
       "tokenizer_config.json: 0.00B [00:00, ?B/s]"
      ]
     },
     "metadata": {},
     "output_type": "display_data"
    },
    {
     "data": {
      "application/vnd.jupyter.widget-view+json": {
       "model_id": "ed4c979b9e534570a37c131d028523be",
       "version_major": 2,
       "version_minor": 0
      },
      "text/plain": [
       "vocab.json: 0.00B [00:00, ?B/s]"
      ]
     },
     "metadata": {},
     "output_type": "display_data"
    },
    {
     "data": {
      "application/vnd.jupyter.widget-view+json": {
       "model_id": "f94cec334f5f4288a0866dcc07f6bca0",
       "version_major": 2,
       "version_minor": 0
      },
      "text/plain": [
       "merges.txt: 0.00B [00:00, ?B/s]"
      ]
     },
     "metadata": {},
     "output_type": "display_data"
    },
    {
     "data": {
      "application/vnd.jupyter.widget-view+json": {
       "model_id": "467c35531aca4ffb9a1603ede0c559ca",
       "version_major": 2,
       "version_minor": 0
      },
      "text/plain": [
       "tokenizer.json: 0.00B [00:00, ?B/s]"
      ]
     },
     "metadata": {},
     "output_type": "display_data"
    },
    {
     "data": {
      "application/vnd.jupyter.widget-view+json": {
       "model_id": "31adc2c7128c43a0875d7b93b0e057a7",
       "version_major": 2,
       "version_minor": 0
      },
      "text/plain": [
       "added_tokens.json:   0%|          | 0.00/87.0 [00:00<?, ?B/s]"
      ]
     },
     "metadata": {},
     "output_type": "display_data"
    },
    {
     "data": {
      "application/vnd.jupyter.widget-view+json": {
       "model_id": "4522eff8e7024b058915c2595d572a78",
       "version_major": 2,
       "version_minor": 0
      },
      "text/plain": [
       "special_tokens_map.json:   0%|          | 0.00/572 [00:00<?, ?B/s]"
      ]
     },
     "metadata": {},
     "output_type": "display_data"
    }
   ],
   "source": [
    "max_seq_length = 2048\n",
    "dtype = None\n",
    "load_in_4bit = True \n",
    "\n",
    "model, tokenizer = FastLanguageModel.from_pretrained(\n",
    "    model_name = \"unsloth/granite-3.2-2b-instruct\",\n",
    "    max_seq_length = max_seq_length,\n",
    "    dtype = torch.float16,\n",
    "    load_in_4bit = load_in_4bit,\n",
    ")"
   ]
  },
  {
   "cell_type": "markdown",
   "metadata": {
    "id": "SXd9bTZd1aaL"
   },
   "source": [
    "We now add LoRA adapters so we only need to update 1 to 10% of all parameters!"
   ]
  },
  {
   "cell_type": "code",
   "execution_count": 19,
   "metadata": {
    "execution": {
     "iopub.execute_input": "2025-07-20T08:48:35.886781Z",
     "iopub.status.busy": "2025-07-20T08:48:35.886105Z",
     "iopub.status.idle": "2025-07-20T08:48:41.156306Z",
     "shell.execute_reply": "2025-07-20T08:48:41.155680Z",
     "shell.execute_reply.started": "2025-07-20T08:48:35.886751Z"
    },
    "id": "6bZsfBuZDeCL",
    "outputId": "b630cc80-ff95-45a2-cc0d-38666010d73b",
    "trusted": true
   },
   "outputs": [
    {
     "name": "stdout",
     "output_type": "stream",
     "text": [
      "Unsloth: Making `model.base_model.model.model` require gradients\n"
     ]
    }
   ],
   "source": [
    "model = FastLanguageModel.get_peft_model(\n",
    "    model,\n",
    "    r = 8, \n",
    "    target_modules = [\"q_proj\", \"k_proj\", \"v_proj\", \"o_proj\",\n",
    "                      \"gate_proj\", \"up_proj\", \"down_proj\",],\n",
    "    lora_alpha = 16,\n",
    "    lora_dropout = 0.2, \n",
    "    bias = \"none\",    \n",
    "    use_gradient_checkpointing = \"unsloth\", \n",
    "    random_state = 42,\n",
    "    use_rslora = True, \n",
    ")\n"
   ]
  },
  {
   "cell_type": "code",
   "execution_count": 20,
   "metadata": {
    "execution": {
     "iopub.execute_input": "2025-07-20T08:48:48.357831Z",
     "iopub.status.busy": "2025-07-20T08:48:48.357206Z",
     "iopub.status.idle": "2025-07-20T08:48:48.362396Z",
     "shell.execute_reply": "2025-07-20T08:48:48.361852Z",
     "shell.execute_reply.started": "2025-07-20T08:48:48.357783Z"
    },
    "trusted": true
   },
   "outputs": [
    {
     "data": {
      "text/plain": [
       "torch.float16"
      ]
     },
     "execution_count": 20,
     "metadata": {},
     "output_type": "execute_result"
    }
   ],
   "source": [
    "model.dtype"
   ]
  },
  {
   "cell_type": "markdown",
   "metadata": {
    "id": "vITh0KVJ10qX"
   },
   "source": [
    "<a name=\"Data\"></a>\n",
    "### Data Prep\n",
    "We now use the Alpaca dataset from [yahma](https://huggingface.co/datasets/yahma/alpaca-cleaned), which is a filtered version of 52K of the original [Alpaca dataset](https://crfm.stanford.edu/2023/03/13/alpaca.html). You can replace this code section with your own data prep.\n",
    "\n",
    "**[NOTE]** To train only on completions (ignoring the user's input) read TRL's docs [here](https://huggingface.co/docs/trl/sft_trainer#train-on-completions-only).\n",
    "\n",
    "**[NOTE]** Remember to add the **EOS_TOKEN** to the tokenized output!! Otherwise you'll get infinite generations!\n",
    "\n",
    "If you want to use the `ChatML` template for ShareGPT datasets, try our conversational [notebook](https://colab.research.google.com/drive/1Aau3lgPzeZKQ-98h69CCu1UJcvIBLmy2?usp=sharing).\n",
    "\n",
    "For text completions like novel writing, try this [notebook](https://colab.research.google.com/drive/1ef-tab5bhkvWmBOObepl1WgJvfvSzn5Q?usp=sharing)."
   ]
  },
  {
   "cell_type": "code",
   "execution_count": 21,
   "metadata": {
    "execution": {
     "iopub.execute_input": "2025-07-20T08:48:48.661377Z",
     "iopub.status.busy": "2025-07-20T08:48:48.661206Z",
     "iopub.status.idle": "2025-07-20T08:48:48.670148Z",
     "shell.execute_reply": "2025-07-20T08:48:48.669443Z",
     "shell.execute_reply.started": "2025-07-20T08:48:48.661364Z"
    },
    "trusted": true
   },
   "outputs": [],
   "source": [
    "df_ = df[['cleaned_transcript','description']].dropna()\n",
    "df_train, df_val = train_test_split(df_, test_size = 0.2, random_state = 42)\n",
    "df_val, df_test = train_test_split(df_val, test_size = 0.5, random_state = 42)"
   ]
  },
  {
   "cell_type": "code",
   "execution_count": 22,
   "metadata": {
    "execution": {
     "iopub.execute_input": "2025-07-20T08:48:50.795967Z",
     "iopub.status.busy": "2025-07-20T08:48:50.795657Z",
     "iopub.status.idle": "2025-07-20T08:48:50.816495Z",
     "shell.execute_reply": "2025-07-20T08:48:50.815786Z",
     "shell.execute_reply.started": "2025-07-20T08:48:50.795936Z"
    },
    "id": "LjY75GoYUCB8",
    "outputId": "9f40f734-788c-4793-c1af-e9d003337612",
    "trusted": true
   },
   "outputs": [],
   "source": [
    "# Prompt Formatting function using your Alpaca-style instruction\n",
    "EOS_TOKEN = tokenizer.eos_token\n",
    "\n",
    "def formatting_prompts_func_row(row):\n",
    "    instruction = f\"\"\"\n",
    "            You are given words combination extracted from medical transcription and your task is determine the description \\n\n",
    "        \"\"\" \n",
    "    input_text = f\"Transcription: {row['cleaned_transcript']}\\nDescription:\"\n",
    "    prompt = instruction + input_text\n",
    "    return {\n",
    "        \"prompt\": prompt,\n",
    "        \"response\": row[\"description\"] + tokenizer.eos_token  # optional for causal LM\n",
    "    }\n",
    "\n",
    "\n",
    "# ✅ Apply formatting to all splits\n",
    "df_train_dicts = df_train.apply(formatting_prompts_func_row, axis=1).tolist()\n",
    "df_val_dicts   = df_val.apply(formatting_prompts_func_row, axis=1).tolist()\n",
    "df_test_dicts  = df_test.apply(formatting_prompts_func_row, axis=1).tolist()"
   ]
  },
  {
   "cell_type": "code",
   "execution_count": 23,
   "metadata": {
    "execution": {
     "iopub.execute_input": "2025-07-20T08:48:52.402052Z",
     "iopub.status.busy": "2025-07-20T08:48:52.401386Z",
     "iopub.status.idle": "2025-07-20T08:48:52.428513Z",
     "shell.execute_reply": "2025-07-20T08:48:52.427983Z",
     "shell.execute_reply.started": "2025-07-20T08:48:52.402027Z"
    },
    "trusted": true
   },
   "outputs": [],
   "source": [
    "df_train = Dataset.from_list(df_train_dicts)\n",
    "df_val   = Dataset.from_list(df_val_dicts)\n",
    "df_test  = Dataset.from_list(df_test_dicts)"
   ]
  },
  {
   "cell_type": "code",
   "execution_count": 24,
   "metadata": {
    "execution": {
     "iopub.execute_input": "2025-07-20T08:48:52.606694Z",
     "iopub.status.busy": "2025-07-20T08:48:52.606239Z",
     "iopub.status.idle": "2025-07-20T08:48:52.610918Z",
     "shell.execute_reply": "2025-07-20T08:48:52.610251Z",
     "shell.execute_reply.started": "2025-07-20T08:48:52.606676Z"
    },
    "trusted": true
   },
   "outputs": [
    {
     "data": {
      "text/plain": [
       "131072"
      ]
     },
     "execution_count": 24,
     "metadata": {},
     "output_type": "execute_result"
    }
   ],
   "source": [
    "tokenizer.model_max_length "
   ]
  },
  {
   "cell_type": "code",
   "execution_count": 25,
   "metadata": {
    "execution": {
     "iopub.execute_input": "2025-07-20T08:48:52.912177Z",
     "iopub.status.busy": "2025-07-20T08:48:52.911730Z",
     "iopub.status.idle": "2025-07-20T08:48:54.118738Z",
     "shell.execute_reply": "2025-07-20T08:48:54.117991Z",
     "shell.execute_reply.started": "2025-07-20T08:48:52.912158Z"
    },
    "trusted": true
   },
   "outputs": [
    {
     "data": {
      "application/vnd.jupyter.widget-view+json": {
       "model_id": "470a5855da6245b487feac6ca080fbc6",
       "version_major": 2,
       "version_minor": 0
      },
      "text/plain": [
       "Map:   0%|          | 0/1246 [00:00<?, ? examples/s]"
      ]
     },
     "metadata": {},
     "output_type": "display_data"
    },
    {
     "data": {
      "application/vnd.jupyter.widget-view+json": {
       "model_id": "f89e759cd5d349a2afc1e14273d60e60",
       "version_major": 2,
       "version_minor": 0
      },
      "text/plain": [
       "Map:   0%|          | 0/156 [00:00<?, ? examples/s]"
      ]
     },
     "metadata": {},
     "output_type": "display_data"
    },
    {
     "data": {
      "application/vnd.jupyter.widget-view+json": {
       "model_id": "2e522d7eb5944d1785b291641044dd90",
       "version_major": 2,
       "version_minor": 0
      },
      "text/plain": [
       "Map:   0%|          | 0/156 [00:00<?, ? examples/s]"
      ]
     },
     "metadata": {},
     "output_type": "display_data"
    }
   ],
   "source": [
    "from transformers import DataCollatorWithPadding\n",
    "\n",
    "IGNORE_INDEX = -100\n",
    "MAX_LENGTH = tokenizer.model_max_length  # usually 4096 or 8192 for Granite\n",
    "\n",
    "def tokenize_function(example):\n",
    "    # Tokenize prompt\n",
    "    prompt = tokenizer(\n",
    "        example[\"prompt\"],\n",
    "        truncation=True,\n",
    "        padding=False,\n",
    "        max_length=MAX_LENGTH,\n",
    "    )\n",
    "\n",
    "    # Tokenize response\n",
    "    response = tokenizer(\n",
    "        example[\"response\"],\n",
    "        truncation=True,\n",
    "        padding=False,\n",
    "        add_special_tokens=False,\n",
    "        max_length=MAX_LENGTH,\n",
    "    )\n",
    "\n",
    "    # Add EOS token to response\n",
    "    response[\"input_ids\"].append(tokenizer.eos_token_id)\n",
    "    response[\"attention_mask\"].append(1)\n",
    "\n",
    "    # Combine\n",
    "    input_ids = prompt[\"input_ids\"] + response[\"input_ids\"]\n",
    "    attention_mask = prompt[\"attention_mask\"] + response[\"attention_mask\"]\n",
    "    labels = [IGNORE_INDEX] * len(prompt[\"input_ids\"]) + response[\"input_ids\"]\n",
    "\n",
    "    # Truncate everything to model max length\n",
    "    input_ids = input_ids[:MAX_LENGTH]\n",
    "    attention_mask = attention_mask[:MAX_LENGTH]\n",
    "    labels = labels[:MAX_LENGTH]\n",
    "\n",
    "    return {\n",
    "        \"input_ids\": input_ids,\n",
    "        \"attention_mask\": attention_mask,\n",
    "        \"labels\": labels\n",
    "    }\n",
    "\n",
    "\n",
    "\n",
    "\n",
    "collate_fn = DataCollatorWithPadding(tokenizer=tokenizer, return_tensors=\"pt\")\n",
    "\n",
    "\n",
    "df_train = df_train.map(tokenize_function, remove_columns=df_train.column_names)\n",
    "df_val   = df_val.map(tokenize_function, remove_columns=df_val.column_names)\n",
    "df_test  = df_test.map(tokenize_function, remove_columns=df_test.column_names)\n"
   ]
  },
  {
   "cell_type": "markdown",
   "metadata": {
    "id": "idAEIeSQ3xdS"
   },
   "source": [
    "<a name=\"Train\"></a>\n",
    "### Train the model\n",
    "Now let's use Huggingface TRL's `SFTTrainer`! More docs here: [TRL SFT docs](https://huggingface.co/docs/trl/sft_trainer). We do 60 steps to speed things up, but you can set `num_train_epochs=1` for a full run, and turn off `max_steps=None`. We also support TRL's `DPOTrainer`!"
   ]
  },
  {
   "cell_type": "code",
   "execution_count": 26,
   "metadata": {
    "execution": {
     "iopub.execute_input": "2025-07-20T08:49:14.450258Z",
     "iopub.status.busy": "2025-07-20T08:49:14.449506Z",
     "iopub.status.idle": "2025-07-20T08:49:14.654681Z",
     "shell.execute_reply": "2025-07-20T08:49:14.654128Z",
     "shell.execute_reply.started": "2025-07-20T08:49:14.450230Z"
    },
    "trusted": true
   },
   "outputs": [],
   "source": [
    "from transformers import TrainingArguments\n",
    "from trl import SFTTrainer\n",
    "from transformers import DataCollatorForSeq2Seq\n",
    "from unsloth import is_bfloat16_supported\n",
    "\n",
    "training_args = TrainingArguments(\n",
    "    output_dir                   = \"outputs/granite-3.3-summarization-v2\",\n",
    "    per_device_train_batch_size  = 1,  # Reduced for better gradient quality\n",
    "    gradient_accumulation_steps  = 16, # Increased to maintain effective batch size\n",
    "    learning_rate                = 1e-5, # Reduced for more stable convergence\n",
    "    warmup_ratio                 = 0.05, # Reduced warmup for smaller dataset\n",
    "    lr_scheduler_type            = \"cosine\",\n",
    "    max_steps                    = 150,  # Increased for better convergence\n",
    "    weight_decay                 = 0.01, # Reduced to prevent over-regularization\n",
    "    fp16                         = not is_bfloat16_supported(),\n",
    "    bf16                         = is_bfloat16_supported(),\n",
    "    logging_steps                = 10,   # Less frequent logging\n",
    "    save_total_limit             = 2,    # Reduced to save disk space\n",
    "    save_steps                   = 10,  # Save checkpoints periodically\n",
    "    eval_strategy                = \"steps\",\n",
    "    eval_steps                   = 10,  # Evaluate every 200 steps\n",
    "    load_best_model_at_end       = True,\n",
    "    metric_for_best_model        = \"eval_loss\",\n",
    "    greater_is_better            = False,\n",
    "    remove_unused_columns        = False,\n",
    "    seed                         = 3407,\n",
    "    report_to                    = \"none\",\n",
    "    dataloader_num_workers       = 2,    # Improved data loading\n",
    "    gradient_checkpointing       = True, # Memory optimization\n",
    ")\n",
    "\n",
    "data_collator = DataCollatorForSeq2Seq(\n",
    "    tokenizer=tokenizer,\n",
    "    padding=True,\n",
    "    label_pad_token_id=IGNORE_INDEX,\n",
    "    return_tensors=\"pt\"\n",
    ")\n",
    "\n",
    "\n",
    "trainer = SFTTrainer(\n",
    "    model=model,\n",
    "    tokenizer=tokenizer,\n",
    "    train_dataset=df_train,\n",
    "    eval_dataset=df_test,\n",
    "    train_on_responses_only = False,\n",
    "    formatting_func=None,\n",
    "    dataset_text_field=None,\n",
    "    data_collator=data_collator,\n",
    "    args=training_args,\n",
    ")"
   ]
  },
  {
   "cell_type": "code",
   "execution_count": 27,
   "metadata": {
    "cellView": "form",
    "execution": {
     "iopub.execute_input": "2025-07-20T08:49:14.691422Z",
     "iopub.status.busy": "2025-07-20T08:49:14.690808Z",
     "iopub.status.idle": "2025-07-20T08:49:14.696177Z",
     "shell.execute_reply": "2025-07-20T08:49:14.695443Z",
     "shell.execute_reply.started": "2025-07-20T08:49:14.691401Z"
    },
    "id": "2ejIt2xSNKKp",
    "outputId": "4815a050-0c0f-4a6a-9d93-b01c44eaea35",
    "trusted": true
   },
   "outputs": [
    {
     "name": "stdout",
     "output_type": "stream",
     "text": [
      "GPU = Tesla T4. Max memory = 14.741 GB.\n",
      "2.686 GB of memory reserved.\n"
     ]
    }
   ],
   "source": [
    "#@title Show current memory stats\n",
    "gpu_stats = torch.cuda.get_device_properties(0)\n",
    "start_gpu_memory = round(torch.cuda.max_memory_reserved() / 1024 / 1024 / 1024, 3)\n",
    "max_memory = round(gpu_stats.total_memory / 1024 / 1024 / 1024, 3)\n",
    "print(f\"GPU = {gpu_stats.name}. Max memory = {max_memory} GB.\")\n",
    "print(f\"{start_gpu_memory} GB of memory reserved.\")"
   ]
  },
  {
   "cell_type": "code",
   "execution_count": 28,
   "metadata": {
    "collapsed": true,
    "execution": {
     "iopub.execute_input": "2025-07-20T08:49:16.184646Z",
     "iopub.status.busy": "2025-07-20T08:49:16.184424Z",
     "iopub.status.idle": "2025-07-20T09:26:04.845701Z",
     "shell.execute_reply": "2025-07-20T09:26:04.844857Z",
     "shell.execute_reply.started": "2025-07-20T08:49:16.184630Z"
    },
    "id": "yqxqAZ7KJ4oL",
    "jupyter": {
     "outputs_hidden": true
    },
    "outputId": "3cf26aac-6042-4458-c4a6-d8849efb6a95",
    "trusted": true
   },
   "outputs": [
    {
     "name": "stderr",
     "output_type": "stream",
     "text": [
      "==((====))==  Unsloth - 2x faster free finetuning | Num GPUs used = 1\n",
      "   \\\\   /|    Num examples = 1,246 | Num Epochs = 4 | Total steps = 150\n",
      "O^O/ \\_/ \\    Batch size per device = 2 | Gradient accumulation steps = 16\n",
      "\\        /    Data Parallel GPUs = 1 | Total batch size (2 x 16 x 1) = 32\n",
      " \"-____-\"     Trainable parameters = 14,090,240 of 2,000,000,000 (0.70% trained)\n",
      "huggingface/tokenizers: The current process just got forked, after parallelism has already been used. Disabling parallelism to avoid deadlocks...\n",
      "To disable this warning, you can either:\n",
      "\t- Avoid using `tokenizers` before the fork if possible\n",
      "\t- Explicitly set the environment variable TOKENIZERS_PARALLELISM=(true | false)\n",
      "huggingface/tokenizers: The current process just got forked, after parallelism has already been used. Disabling parallelism to avoid deadlocks...\n",
      "To disable this warning, you can either:\n",
      "\t- Avoid using `tokenizers` before the fork if possible\n",
      "\t- Explicitly set the environment variable TOKENIZERS_PARALLELISM=(true | false)\n",
      "`use_cache=True` is incompatible with gradient checkpointing. Setting `use_cache=False`.\n"
     ]
    },
    {
     "data": {
      "text/html": [
       "\n",
       "    <div>\n",
       "      \n",
       "      <progress value='150' max='150' style='width:300px; height:20px; vertical-align: middle;'></progress>\n",
       "      [150/150 35:46, Epoch 3/4]\n",
       "    </div>\n",
       "    <table border=\"1\" class=\"dataframe\">\n",
       "  <thead>\n",
       " <tr style=\"text-align: left;\">\n",
       "      <th>Step</th>\n",
       "      <th>Training Loss</th>\n",
       "      <th>Validation Loss</th>\n",
       "    </tr>\n",
       "  </thead>\n",
       "  <tbody>\n",
       "    <tr>\n",
       "      <td>10</td>\n",
       "      <td>4.233500</td>\n",
       "      <td>2.560643</td>\n",
       "    </tr>\n",
       "    <tr>\n",
       "      <td>20</td>\n",
       "      <td>6.126500</td>\n",
       "      <td>2.189739</td>\n",
       "    </tr>\n",
       "    <tr>\n",
       "      <td>30</td>\n",
       "      <td>2.903900</td>\n",
       "      <td>1.887745</td>\n",
       "    </tr>\n",
       "    <tr>\n",
       "      <td>40</td>\n",
       "      <td>2.744600</td>\n",
       "      <td>1.693782</td>\n",
       "    </tr>\n",
       "    <tr>\n",
       "      <td>50</td>\n",
       "      <td>3.465800</td>\n",
       "      <td>1.668347</td>\n",
       "    </tr>\n",
       "    <tr>\n",
       "      <td>60</td>\n",
       "      <td>2.528300</td>\n",
       "      <td>1.646704</td>\n",
       "    </tr>\n",
       "    <tr>\n",
       "      <td>70</td>\n",
       "      <td>2.882900</td>\n",
       "      <td>1.636334</td>\n",
       "    </tr>\n",
       "    <tr>\n",
       "      <td>80</td>\n",
       "      <td>2.573500</td>\n",
       "      <td>1.632847</td>\n",
       "    </tr>\n",
       "    <tr>\n",
       "      <td>90</td>\n",
       "      <td>2.469500</td>\n",
       "      <td>1.631538</td>\n",
       "    </tr>\n",
       "    <tr>\n",
       "      <td>100</td>\n",
       "      <td>2.250600</td>\n",
       "      <td>1.630796</td>\n",
       "    </tr>\n",
       "    <tr>\n",
       "      <td>110</td>\n",
       "      <td>3.056600</td>\n",
       "      <td>1.630439</td>\n",
       "    </tr>\n",
       "    <tr>\n",
       "      <td>120</td>\n",
       "      <td>2.806900</td>\n",
       "      <td>1.630215</td>\n",
       "    </tr>\n",
       "    <tr>\n",
       "      <td>130</td>\n",
       "      <td>2.372400</td>\n",
       "      <td>1.630041</td>\n",
       "    </tr>\n",
       "    <tr>\n",
       "      <td>140</td>\n",
       "      <td>1.952900</td>\n",
       "      <td>1.630064</td>\n",
       "    </tr>\n",
       "    <tr>\n",
       "      <td>150</td>\n",
       "      <td>2.022900</td>\n",
       "      <td>1.629989</td>\n",
       "    </tr>\n",
       "  </tbody>\n",
       "</table><p>"
      ],
      "text/plain": [
       "<IPython.core.display.HTML object>"
      ]
     },
     "metadata": {},
     "output_type": "display_data"
    },
    {
     "name": "stdout",
     "output_type": "stream",
     "text": [
      "Unsloth: Will smartly offload gradients to save VRAM!\n"
     ]
    },
    {
     "name": "stderr",
     "output_type": "stream",
     "text": [
      "huggingface/tokenizers: The current process just got forked, after parallelism has already been used. Disabling parallelism to avoid deadlocks...\n",
      "To disable this warning, you can either:\n",
      "\t- Avoid using `tokenizers` before the fork if possible\n",
      "\t- Explicitly set the environment variable TOKENIZERS_PARALLELISM=(true | false)\n",
      "huggingface/tokenizers: The current process just got forked, after parallelism has already been used. Disabling parallelism to avoid deadlocks...\n",
      "To disable this warning, you can either:\n",
      "\t- Avoid using `tokenizers` before the fork if possible\n",
      "\t- Explicitly set the environment variable TOKENIZERS_PARALLELISM=(true | false)\n",
      "Unsloth: Not an error, but GraniteForCausalLM does not accept `num_items_in_batch`.\n",
      "Using gradient accumulation will be very slightly less accurate.\n",
      "Read more on gradient accumulation issues here: https://unsloth.ai/blog/gradient\n",
      "huggingface/tokenizers: The current process just got forked, after parallelism has already been used. Disabling parallelism to avoid deadlocks...\n",
      "To disable this warning, you can either:\n",
      "\t- Avoid using `tokenizers` before the fork if possible\n",
      "\t- Explicitly set the environment variable TOKENIZERS_PARALLELISM=(true | false)\n",
      "huggingface/tokenizers: The current process just got forked, after parallelism has already been used. Disabling parallelism to avoid deadlocks...\n",
      "To disable this warning, you can either:\n",
      "\t- Avoid using `tokenizers` before the fork if possible\n",
      "\t- Explicitly set the environment variable TOKENIZERS_PARALLELISM=(true | false)\n",
      "huggingface/tokenizers: The current process just got forked, after parallelism has already been used. Disabling parallelism to avoid deadlocks...\n",
      "To disable this warning, you can either:\n",
      "\t- Avoid using `tokenizers` before the fork if possible\n",
      "\t- Explicitly set the environment variable TOKENIZERS_PARALLELISM=(true | false)\n",
      "huggingface/tokenizers: The current process just got forked, after parallelism has already been used. Disabling parallelism to avoid deadlocks...\n",
      "To disable this warning, you can either:\n",
      "\t- Avoid using `tokenizers` before the fork if possible\n",
      "\t- Explicitly set the environment variable TOKENIZERS_PARALLELISM=(true | false)\n",
      "huggingface/tokenizers: The current process just got forked, after parallelism has already been used. Disabling parallelism to avoid deadlocks...\n",
      "To disable this warning, you can either:\n",
      "\t- Avoid using `tokenizers` before the fork if possible\n",
      "\t- Explicitly set the environment variable TOKENIZERS_PARALLELISM=(true | false)\n",
      "huggingface/tokenizers: The current process just got forked, after parallelism has already been used. Disabling parallelism to avoid deadlocks...\n",
      "To disable this warning, you can either:\n",
      "\t- Avoid using `tokenizers` before the fork if possible\n",
      "\t- Explicitly set the environment variable TOKENIZERS_PARALLELISM=(true | false)\n",
      "huggingface/tokenizers: The current process just got forked, after parallelism has already been used. Disabling parallelism to avoid deadlocks...\n",
      "To disable this warning, you can either:\n",
      "\t- Avoid using `tokenizers` before the fork if possible\n",
      "\t- Explicitly set the environment variable TOKENIZERS_PARALLELISM=(true | false)\n",
      "huggingface/tokenizers: The current process just got forked, after parallelism has already been used. Disabling parallelism to avoid deadlocks...\n",
      "To disable this warning, you can either:\n",
      "\t- Avoid using `tokenizers` before the fork if possible\n",
      "\t- Explicitly set the environment variable TOKENIZERS_PARALLELISM=(true | false)\n",
      "huggingface/tokenizers: The current process just got forked, after parallelism has already been used. Disabling parallelism to avoid deadlocks...\n",
      "To disable this warning, you can either:\n",
      "\t- Avoid using `tokenizers` before the fork if possible\n",
      "\t- Explicitly set the environment variable TOKENIZERS_PARALLELISM=(true | false)\n",
      "huggingface/tokenizers: The current process just got forked, after parallelism has already been used. Disabling parallelism to avoid deadlocks...\n",
      "To disable this warning, you can either:\n",
      "\t- Avoid using `tokenizers` before the fork if possible\n",
      "\t- Explicitly set the environment variable TOKENIZERS_PARALLELISM=(true | false)\n",
      "huggingface/tokenizers: The current process just got forked, after parallelism has already been used. Disabling parallelism to avoid deadlocks...\n",
      "To disable this warning, you can either:\n",
      "\t- Avoid using `tokenizers` before the fork if possible\n",
      "\t- Explicitly set the environment variable TOKENIZERS_PARALLELISM=(true | false)\n",
      "huggingface/tokenizers: The current process just got forked, after parallelism has already been used. Disabling parallelism to avoid deadlocks...\n",
      "To disable this warning, you can either:\n",
      "\t- Avoid using `tokenizers` before the fork if possible\n",
      "\t- Explicitly set the environment variable TOKENIZERS_PARALLELISM=(true | false)\n",
      "huggingface/tokenizers: The current process just got forked, after parallelism has already been used. Disabling parallelism to avoid deadlocks...\n",
      "To disable this warning, you can either:\n",
      "\t- Avoid using `tokenizers` before the fork if possible\n",
      "\t- Explicitly set the environment variable TOKENIZERS_PARALLELISM=(true | false)\n",
      "huggingface/tokenizers: The current process just got forked, after parallelism has already been used. Disabling parallelism to avoid deadlocks...\n",
      "To disable this warning, you can either:\n",
      "\t- Avoid using `tokenizers` before the fork if possible\n",
      "\t- Explicitly set the environment variable TOKENIZERS_PARALLELISM=(true | false)\n",
      "huggingface/tokenizers: The current process just got forked, after parallelism has already been used. Disabling parallelism to avoid deadlocks...\n",
      "To disable this warning, you can either:\n",
      "\t- Avoid using `tokenizers` before the fork if possible\n",
      "\t- Explicitly set the environment variable TOKENIZERS_PARALLELISM=(true | false)\n",
      "huggingface/tokenizers: The current process just got forked, after parallelism has already been used. Disabling parallelism to avoid deadlocks...\n",
      "To disable this warning, you can either:\n",
      "\t- Avoid using `tokenizers` before the fork if possible\n",
      "\t- Explicitly set the environment variable TOKENIZERS_PARALLELISM=(true | false)\n",
      "huggingface/tokenizers: The current process just got forked, after parallelism has already been used. Disabling parallelism to avoid deadlocks...\n",
      "To disable this warning, you can either:\n",
      "\t- Avoid using `tokenizers` before the fork if possible\n",
      "\t- Explicitly set the environment variable TOKENIZERS_PARALLELISM=(true | false)\n",
      "huggingface/tokenizers: The current process just got forked, after parallelism has already been used. Disabling parallelism to avoid deadlocks...\n",
      "To disable this warning, you can either:\n",
      "\t- Avoid using `tokenizers` before the fork if possible\n",
      "\t- Explicitly set the environment variable TOKENIZERS_PARALLELISM=(true | false)\n",
      "huggingface/tokenizers: The current process just got forked, after parallelism has already been used. Disabling parallelism to avoid deadlocks...\n",
      "To disable this warning, you can either:\n",
      "\t- Avoid using `tokenizers` before the fork if possible\n",
      "\t- Explicitly set the environment variable TOKENIZERS_PARALLELISM=(true | false)\n",
      "huggingface/tokenizers: The current process just got forked, after parallelism has already been used. Disabling parallelism to avoid deadlocks...\n",
      "To disable this warning, you can either:\n",
      "\t- Avoid using `tokenizers` before the fork if possible\n",
      "\t- Explicitly set the environment variable TOKENIZERS_PARALLELISM=(true | false)\n",
      "huggingface/tokenizers: The current process just got forked, after parallelism has already been used. Disabling parallelism to avoid deadlocks...\n",
      "To disable this warning, you can either:\n",
      "\t- Avoid using `tokenizers` before the fork if possible\n",
      "\t- Explicitly set the environment variable TOKENIZERS_PARALLELISM=(true | false)\n",
      "huggingface/tokenizers: The current process just got forked, after parallelism has already been used. Disabling parallelism to avoid deadlocks...\n",
      "To disable this warning, you can either:\n",
      "\t- Avoid using `tokenizers` before the fork if possible\n",
      "\t- Explicitly set the environment variable TOKENIZERS_PARALLELISM=(true | false)\n",
      "huggingface/tokenizers: The current process just got forked, after parallelism has already been used. Disabling parallelism to avoid deadlocks...\n",
      "To disable this warning, you can either:\n",
      "\t- Avoid using `tokenizers` before the fork if possible\n",
      "\t- Explicitly set the environment variable TOKENIZERS_PARALLELISM=(true | false)\n",
      "huggingface/tokenizers: The current process just got forked, after parallelism has already been used. Disabling parallelism to avoid deadlocks...\n",
      "To disable this warning, you can either:\n",
      "\t- Avoid using `tokenizers` before the fork if possible\n",
      "\t- Explicitly set the environment variable TOKENIZERS_PARALLELISM=(true | false)\n",
      "huggingface/tokenizers: The current process just got forked, after parallelism has already been used. Disabling parallelism to avoid deadlocks...\n",
      "To disable this warning, you can either:\n",
      "\t- Avoid using `tokenizers` before the fork if possible\n",
      "\t- Explicitly set the environment variable TOKENIZERS_PARALLELISM=(true | false)\n",
      "huggingface/tokenizers: The current process just got forked, after parallelism has already been used. Disabling parallelism to avoid deadlocks...\n",
      "To disable this warning, you can either:\n",
      "\t- Avoid using `tokenizers` before the fork if possible\n",
      "\t- Explicitly set the environment variable TOKENIZERS_PARALLELISM=(true | false)\n",
      "huggingface/tokenizers: The current process just got forked, after parallelism has already been used. Disabling parallelism to avoid deadlocks...\n",
      "To disable this warning, you can either:\n",
      "\t- Avoid using `tokenizers` before the fork if possible\n",
      "\t- Explicitly set the environment variable TOKENIZERS_PARALLELISM=(true | false)\n",
      "huggingface/tokenizers: The current process just got forked, after parallelism has already been used. Disabling parallelism to avoid deadlocks...\n",
      "To disable this warning, you can either:\n",
      "\t- Avoid using `tokenizers` before the fork if possible\n",
      "\t- Explicitly set the environment variable TOKENIZERS_PARALLELISM=(true | false)\n",
      "huggingface/tokenizers: The current process just got forked, after parallelism has already been used. Disabling parallelism to avoid deadlocks...\n",
      "To disable this warning, you can either:\n",
      "\t- Avoid using `tokenizers` before the fork if possible\n",
      "\t- Explicitly set the environment variable TOKENIZERS_PARALLELISM=(true | false)\n",
      "huggingface/tokenizers: The current process just got forked, after parallelism has already been used. Disabling parallelism to avoid deadlocks...\n",
      "To disable this warning, you can either:\n",
      "\t- Avoid using `tokenizers` before the fork if possible\n",
      "\t- Explicitly set the environment variable TOKENIZERS_PARALLELISM=(true | false)\n",
      "huggingface/tokenizers: The current process just got forked, after parallelism has already been used. Disabling parallelism to avoid deadlocks...\n",
      "To disable this warning, you can either:\n",
      "\t- Avoid using `tokenizers` before the fork if possible\n",
      "\t- Explicitly set the environment variable TOKENIZERS_PARALLELISM=(true | false)\n",
      "huggingface/tokenizers: The current process just got forked, after parallelism has already been used. Disabling parallelism to avoid deadlocks...\n",
      "To disable this warning, you can either:\n",
      "\t- Avoid using `tokenizers` before the fork if possible\n",
      "\t- Explicitly set the environment variable TOKENIZERS_PARALLELISM=(true | false)\n",
      "huggingface/tokenizers: The current process just got forked, after parallelism has already been used. Disabling parallelism to avoid deadlocks...\n",
      "To disable this warning, you can either:\n",
      "\t- Avoid using `tokenizers` before the fork if possible\n",
      "\t- Explicitly set the environment variable TOKENIZERS_PARALLELISM=(true | false)\n",
      "huggingface/tokenizers: The current process just got forked, after parallelism has already been used. Disabling parallelism to avoid deadlocks...\n",
      "To disable this warning, you can either:\n",
      "\t- Avoid using `tokenizers` before the fork if possible\n",
      "\t- Explicitly set the environment variable TOKENIZERS_PARALLELISM=(true | false)\n"
     ]
    }
   ],
   "source": [
    "trainer_stats = trainer.train()"
   ]
  },
  {
   "cell_type": "code",
   "execution_count": 29,
   "metadata": {
    "execution": {
     "iopub.execute_input": "2025-07-20T09:26:25.719986Z",
     "iopub.status.busy": "2025-07-20T09:26:25.719274Z",
     "iopub.status.idle": "2025-07-20T09:26:26.090241Z",
     "shell.execute_reply": "2025-07-20T09:26:26.089677Z",
     "shell.execute_reply.started": "2025-07-20T09:26:25.719952Z"
    },
    "trusted": true
   },
   "outputs": [
    {
     "data": {
      "text/plain": [
       "('finetuned-IBM-Granite/tokenizer_config.json',\n",
       " 'finetuned-IBM-Granite/special_tokens_map.json',\n",
       " 'finetuned-IBM-Granite/chat_template.jinja',\n",
       " 'finetuned-IBM-Granite/vocab.json',\n",
       " 'finetuned-IBM-Granite/merges.txt',\n",
       " 'finetuned-IBM-Granite/added_tokens.json',\n",
       " 'finetuned-IBM-Granite/tokenizer.json')"
      ]
     },
     "execution_count": 29,
     "metadata": {},
     "output_type": "execute_result"
    }
   ],
   "source": [
    "trainer.save_model(\"finetuned-IBM-Granite\")\n",
    "tokenizer.save_pretrained(\"finetuned-IBM-Granite\")"
   ]
  },
  {
   "cell_type": "markdown",
   "metadata": {},
   "source": [
    "## Evaluation"
   ]
  },
  {
   "cell_type": "code",
   "execution_count": 32,
   "metadata": {
    "execution": {
     "iopub.execute_input": "2025-07-20T09:27:16.276178Z",
     "iopub.status.busy": "2025-07-20T09:27:16.275408Z",
     "iopub.status.idle": "2025-07-20T09:27:24.132204Z",
     "shell.execute_reply": "2025-07-20T09:27:24.131370Z",
     "shell.execute_reply.started": "2025-07-20T09:27:16.276144Z"
    },
    "trusted": true
   },
   "outputs": [
    {
     "name": "stdout",
     "output_type": "stream",
     "text": [
      "==((====))==  Unsloth 2025.6.2: Fast Granite patching. Transformers: 4.52.4.\n",
      "   \\\\   /|    Tesla T4. Num GPUs = 2. Max memory: 14.741 GB. Platform: Linux.\n",
      "O^O/ \\_/ \\    Torch: 2.7.0+cu126. CUDA: 7.5. CUDA Toolkit: 12.6. Triton: 3.3.0\n",
      "\\        /    Bfloat16 = FALSE. FA [Xformers = 0.0.30. FA2 = False]\n",
      " \"-____-\"     Free license: http://github.com/unslothai/unsloth\n",
      "Unsloth: Fast downloading is enabled - ignore downloading bars which are red colored!\n"
     ]
    }
   ],
   "source": [
    "# Load evaluation metrics\n",
    "rouge = evaluate.load(\"rouge\")\n",
    "bertscore = evaluate.load(\"bertscore\")\n",
    "\n",
    "# Load your fine-tuned model back (just in case you're in new runtime)\n",
    "\n",
    "model, tokenizer = FastLanguageModel.from_pretrained(\n",
    "    \"finetuned-IBM-Granite\",\n",
    "    dtype=None,\n",
    "    load_in_4bit=True\n",
    ")"
   ]
  },
  {
   "cell_type": "code",
   "execution_count": 36,
   "metadata": {
    "collapsed": true,
    "execution": {
     "iopub.execute_input": "2025-07-20T09:40:00.512012Z",
     "iopub.status.busy": "2025-07-20T09:40:00.511432Z",
     "iopub.status.idle": "2025-07-20T10:24:30.940395Z",
     "shell.execute_reply": "2025-07-20T10:24:30.939694Z",
     "shell.execute_reply.started": "2025-07-20T09:40:00.511985Z"
    },
    "jupyter": {
     "outputs_hidden": true
    },
    "trusted": true
   },
   "outputs": [
    {
     "name": "stderr",
     "output_type": "stream",
     "text": [
      "  0%|          | 0/156 [00:00<?, ?it/s]You've set `assistant_model`, which triggers assisted generate. Currently, assisted generate is only supported with Greedy Search and Sample. However, the base decoding mode (based on current flags) is GenerationMode.BEAM_SEARCH -- some of the set flags will be ignored.\n",
      "  1%|          | 1/156 [00:17<44:44, 17.32s/it]You've set `assistant_model`, which triggers assisted generate. Currently, assisted generate is only supported with Greedy Search and Sample. However, the base decoding mode (based on current flags) is GenerationMode.BEAM_SEARCH -- some of the set flags will be ignored.\n",
      "  1%|▏         | 2/156 [00:34<44:29, 17.33s/it]You've set `assistant_model`, which triggers assisted generate. Currently, assisted generate is only supported with Greedy Search and Sample. However, the base decoding mode (based on current flags) is GenerationMode.BEAM_SEARCH -- some of the set flags will be ignored.\n",
      "  2%|▏         | 3/156 [00:51<44:07, 17.31s/it]You've set `assistant_model`, which triggers assisted generate. Currently, assisted generate is only supported with Greedy Search and Sample. However, the base decoding mode (based on current flags) is GenerationMode.BEAM_SEARCH -- some of the set flags will be ignored.\n",
      "  3%|▎         | 4/156 [01:09<43:49, 17.30s/it]You've set `assistant_model`, which triggers assisted generate. Currently, assisted generate is only supported with Greedy Search and Sample. However, the base decoding mode (based on current flags) is GenerationMode.BEAM_SEARCH -- some of the set flags will be ignored.\n",
      "  3%|▎         | 5/156 [01:26<43:34, 17.31s/it]You've set `assistant_model`, which triggers assisted generate. Currently, assisted generate is only supported with Greedy Search and Sample. However, the base decoding mode (based on current flags) is GenerationMode.BEAM_SEARCH -- some of the set flags will be ignored.\n",
      "  4%|▍         | 6/156 [01:43<43:09, 17.26s/it]You've set `assistant_model`, which triggers assisted generate. Currently, assisted generate is only supported with Greedy Search and Sample. However, the base decoding mode (based on current flags) is GenerationMode.BEAM_SEARCH -- some of the set flags will be ignored.\n",
      "  4%|▍         | 7/156 [02:00<42:41, 17.19s/it]You've set `assistant_model`, which triggers assisted generate. Currently, assisted generate is only supported with Greedy Search and Sample. However, the base decoding mode (based on current flags) is GenerationMode.BEAM_SEARCH -- some of the set flags will be ignored.\n",
      "  5%|▌         | 8/156 [02:17<42:24, 17.19s/it]You've set `assistant_model`, which triggers assisted generate. Currently, assisted generate is only supported with Greedy Search and Sample. However, the base decoding mode (based on current flags) is GenerationMode.BEAM_SEARCH -- some of the set flags will be ignored.\n",
      "  6%|▌         | 9/156 [02:35<42:02, 17.16s/it]You've set `assistant_model`, which triggers assisted generate. Currently, assisted generate is only supported with Greedy Search and Sample. However, the base decoding mode (based on current flags) is GenerationMode.BEAM_SEARCH -- some of the set flags will be ignored.\n",
      "  6%|▋         | 10/156 [02:52<41:50, 17.19s/it]You've set `assistant_model`, which triggers assisted generate. Currently, assisted generate is only supported with Greedy Search and Sample. However, the base decoding mode (based on current flags) is GenerationMode.BEAM_SEARCH -- some of the set flags will be ignored.\n",
      "  7%|▋         | 11/156 [03:09<41:34, 17.20s/it]You've set `assistant_model`, which triggers assisted generate. Currently, assisted generate is only supported with Greedy Search and Sample. However, the base decoding mode (based on current flags) is GenerationMode.BEAM_SEARCH -- some of the set flags will be ignored.\n",
      "  8%|▊         | 12/156 [03:26<41:20, 17.22s/it]You've set `assistant_model`, which triggers assisted generate. Currently, assisted generate is only supported with Greedy Search and Sample. However, the base decoding mode (based on current flags) is GenerationMode.BEAM_SEARCH -- some of the set flags will be ignored.\n",
      "  8%|▊         | 13/156 [03:43<41:00, 17.21s/it]You've set `assistant_model`, which triggers assisted generate. Currently, assisted generate is only supported with Greedy Search and Sample. However, the base decoding mode (based on current flags) is GenerationMode.BEAM_SEARCH -- some of the set flags will be ignored.\n",
      "  9%|▉         | 14/156 [04:01<40:40, 17.19s/it]You've set `assistant_model`, which triggers assisted generate. Currently, assisted generate is only supported with Greedy Search and Sample. However, the base decoding mode (based on current flags) is GenerationMode.BEAM_SEARCH -- some of the set flags will be ignored.\n",
      " 10%|▉         | 15/156 [04:18<40:18, 17.15s/it]You've set `assistant_model`, which triggers assisted generate. Currently, assisted generate is only supported with Greedy Search and Sample. However, the base decoding mode (based on current flags) is GenerationMode.BEAM_SEARCH -- some of the set flags will be ignored.\n",
      " 10%|█         | 16/156 [04:35<40:02, 17.16s/it]You've set `assistant_model`, which triggers assisted generate. Currently, assisted generate is only supported with Greedy Search and Sample. However, the base decoding mode (based on current flags) is GenerationMode.BEAM_SEARCH -- some of the set flags will be ignored.\n",
      " 11%|█         | 17/156 [04:52<39:46, 17.17s/it]You've set `assistant_model`, which triggers assisted generate. Currently, assisted generate is only supported with Greedy Search and Sample. However, the base decoding mode (based on current flags) is GenerationMode.BEAM_SEARCH -- some of the set flags will be ignored.\n",
      " 12%|█▏        | 18/156 [05:09<39:24, 17.14s/it]You've set `assistant_model`, which triggers assisted generate. Currently, assisted generate is only supported with Greedy Search and Sample. However, the base decoding mode (based on current flags) is GenerationMode.BEAM_SEARCH -- some of the set flags will be ignored.\n",
      " 12%|█▏        | 19/156 [05:26<39:04, 17.11s/it]You've set `assistant_model`, which triggers assisted generate. Currently, assisted generate is only supported with Greedy Search and Sample. However, the base decoding mode (based on current flags) is GenerationMode.BEAM_SEARCH -- some of the set flags will be ignored.\n",
      " 13%|█▎        | 20/156 [05:43<38:50, 17.14s/it]You've set `assistant_model`, which triggers assisted generate. Currently, assisted generate is only supported with Greedy Search and Sample. However, the base decoding mode (based on current flags) is GenerationMode.BEAM_SEARCH -- some of the set flags will be ignored.\n",
      " 13%|█▎        | 21/156 [06:01<38:33, 17.13s/it]You've set `assistant_model`, which triggers assisted generate. Currently, assisted generate is only supported with Greedy Search and Sample. However, the base decoding mode (based on current flags) is GenerationMode.BEAM_SEARCH -- some of the set flags will be ignored.\n",
      " 14%|█▍        | 22/156 [06:18<38:13, 17.12s/it]You've set `assistant_model`, which triggers assisted generate. Currently, assisted generate is only supported with Greedy Search and Sample. However, the base decoding mode (based on current flags) is GenerationMode.BEAM_SEARCH -- some of the set flags will be ignored.\n",
      " 15%|█▍        | 23/156 [06:35<37:57, 17.13s/it]You've set `assistant_model`, which triggers assisted generate. Currently, assisted generate is only supported with Greedy Search and Sample. However, the base decoding mode (based on current flags) is GenerationMode.BEAM_SEARCH -- some of the set flags will be ignored.\n",
      " 15%|█▌        | 24/156 [06:52<37:39, 17.12s/it]You've set `assistant_model`, which triggers assisted generate. Currently, assisted generate is only supported with Greedy Search and Sample. However, the base decoding mode (based on current flags) is GenerationMode.BEAM_SEARCH -- some of the set flags will be ignored.\n",
      " 16%|█▌        | 25/156 [07:09<37:26, 17.15s/it]You've set `assistant_model`, which triggers assisted generate. Currently, assisted generate is only supported with Greedy Search and Sample. However, the base decoding mode (based on current flags) is GenerationMode.BEAM_SEARCH -- some of the set flags will be ignored.\n",
      " 17%|█▋        | 26/156 [07:26<37:09, 17.15s/it]You've set `assistant_model`, which triggers assisted generate. Currently, assisted generate is only supported with Greedy Search and Sample. However, the base decoding mode (based on current flags) is GenerationMode.BEAM_SEARCH -- some of the set flags will be ignored.\n",
      " 17%|█▋        | 27/156 [07:43<36:56, 17.19s/it]You've set `assistant_model`, which triggers assisted generate. Currently, assisted generate is only supported with Greedy Search and Sample. However, the base decoding mode (based on current flags) is GenerationMode.BEAM_SEARCH -- some of the set flags will be ignored.\n",
      " 18%|█▊        | 28/156 [08:01<36:40, 17.19s/it]You've set `assistant_model`, which triggers assisted generate. Currently, assisted generate is only supported with Greedy Search and Sample. However, the base decoding mode (based on current flags) is GenerationMode.BEAM_SEARCH -- some of the set flags will be ignored.\n",
      " 19%|█▊        | 29/156 [08:18<36:26, 17.22s/it]You've set `assistant_model`, which triggers assisted generate. Currently, assisted generate is only supported with Greedy Search and Sample. However, the base decoding mode (based on current flags) is GenerationMode.BEAM_SEARCH -- some of the set flags will be ignored.\n",
      " 19%|█▉        | 30/156 [08:35<36:14, 17.26s/it]You've set `assistant_model`, which triggers assisted generate. Currently, assisted generate is only supported with Greedy Search and Sample. However, the base decoding mode (based on current flags) is GenerationMode.BEAM_SEARCH -- some of the set flags will be ignored.\n",
      " 20%|█▉        | 31/156 [08:52<35:44, 17.15s/it]You've set `assistant_model`, which triggers assisted generate. Currently, assisted generate is only supported with Greedy Search and Sample. However, the base decoding mode (based on current flags) is GenerationMode.BEAM_SEARCH -- some of the set flags will be ignored.\n",
      " 21%|██        | 32/156 [09:09<35:26, 17.15s/it]You've set `assistant_model`, which triggers assisted generate. Currently, assisted generate is only supported with Greedy Search and Sample. However, the base decoding mode (based on current flags) is GenerationMode.BEAM_SEARCH -- some of the set flags will be ignored.\n",
      " 21%|██        | 33/156 [09:26<35:02, 17.09s/it]You've set `assistant_model`, which triggers assisted generate. Currently, assisted generate is only supported with Greedy Search and Sample. However, the base decoding mode (based on current flags) is GenerationMode.BEAM_SEARCH -- some of the set flags will be ignored.\n",
      " 22%|██▏       | 34/156 [09:43<34:45, 17.10s/it]You've set `assistant_model`, which triggers assisted generate. Currently, assisted generate is only supported with Greedy Search and Sample. However, the base decoding mode (based on current flags) is GenerationMode.BEAM_SEARCH -- some of the set flags will be ignored.\n",
      " 22%|██▏       | 35/156 [10:01<34:28, 17.09s/it]You've set `assistant_model`, which triggers assisted generate. Currently, assisted generate is only supported with Greedy Search and Sample. However, the base decoding mode (based on current flags) is GenerationMode.BEAM_SEARCH -- some of the set flags will be ignored.\n",
      " 23%|██▎       | 36/156 [10:18<34:13, 17.11s/it]You've set `assistant_model`, which triggers assisted generate. Currently, assisted generate is only supported with Greedy Search and Sample. However, the base decoding mode (based on current flags) is GenerationMode.BEAM_SEARCH -- some of the set flags will be ignored.\n",
      " 24%|██▎       | 37/156 [10:35<33:51, 17.07s/it]You've set `assistant_model`, which triggers assisted generate. Currently, assisted generate is only supported with Greedy Search and Sample. However, the base decoding mode (based on current flags) is GenerationMode.BEAM_SEARCH -- some of the set flags will be ignored.\n",
      " 24%|██▍       | 38/156 [10:52<33:37, 17.10s/it]You've set `assistant_model`, which triggers assisted generate. Currently, assisted generate is only supported with Greedy Search and Sample. However, the base decoding mode (based on current flags) is GenerationMode.BEAM_SEARCH -- some of the set flags will be ignored.\n",
      " 25%|██▌       | 39/156 [11:09<33:24, 17.13s/it]You've set `assistant_model`, which triggers assisted generate. Currently, assisted generate is only supported with Greedy Search and Sample. However, the base decoding mode (based on current flags) is GenerationMode.BEAM_SEARCH -- some of the set flags will be ignored.\n",
      " 26%|██▌       | 40/156 [11:26<33:06, 17.13s/it]You've set `assistant_model`, which triggers assisted generate. Currently, assisted generate is only supported with Greedy Search and Sample. However, the base decoding mode (based on current flags) is GenerationMode.BEAM_SEARCH -- some of the set flags will be ignored.\n",
      " 26%|██▋       | 41/156 [11:43<32:49, 17.13s/it]You've set `assistant_model`, which triggers assisted generate. Currently, assisted generate is only supported with Greedy Search and Sample. However, the base decoding mode (based on current flags) is GenerationMode.BEAM_SEARCH -- some of the set flags will be ignored.\n",
      " 27%|██▋       | 42/156 [12:00<32:29, 17.10s/it]You've set `assistant_model`, which triggers assisted generate. Currently, assisted generate is only supported with Greedy Search and Sample. However, the base decoding mode (based on current flags) is GenerationMode.BEAM_SEARCH -- some of the set flags will be ignored.\n",
      " 28%|██▊       | 43/156 [12:17<32:15, 17.13s/it]You've set `assistant_model`, which triggers assisted generate. Currently, assisted generate is only supported with Greedy Search and Sample. However, the base decoding mode (based on current flags) is GenerationMode.BEAM_SEARCH -- some of the set flags will be ignored.\n",
      " 28%|██▊       | 44/156 [12:35<31:58, 17.13s/it]You've set `assistant_model`, which triggers assisted generate. Currently, assisted generate is only supported with Greedy Search and Sample. However, the base decoding mode (based on current flags) is GenerationMode.BEAM_SEARCH -- some of the set flags will be ignored.\n",
      " 29%|██▉       | 45/156 [12:52<31:41, 17.13s/it]You've set `assistant_model`, which triggers assisted generate. Currently, assisted generate is only supported with Greedy Search and Sample. However, the base decoding mode (based on current flags) is GenerationMode.BEAM_SEARCH -- some of the set flags will be ignored.\n",
      " 29%|██▉       | 46/156 [13:09<31:22, 17.11s/it]You've set `assistant_model`, which triggers assisted generate. Currently, assisted generate is only supported with Greedy Search and Sample. However, the base decoding mode (based on current flags) is GenerationMode.BEAM_SEARCH -- some of the set flags will be ignored.\n",
      " 30%|███       | 47/156 [13:26<31:07, 17.13s/it]You've set `assistant_model`, which triggers assisted generate. Currently, assisted generate is only supported with Greedy Search and Sample. However, the base decoding mode (based on current flags) is GenerationMode.BEAM_SEARCH -- some of the set flags will be ignored.\n",
      " 31%|███       | 48/156 [13:43<30:53, 17.16s/it]You've set `assistant_model`, which triggers assisted generate. Currently, assisted generate is only supported with Greedy Search and Sample. However, the base decoding mode (based on current flags) is GenerationMode.BEAM_SEARCH -- some of the set flags will be ignored.\n",
      " 31%|███▏      | 49/156 [14:00<30:35, 17.15s/it]You've set `assistant_model`, which triggers assisted generate. Currently, assisted generate is only supported with Greedy Search and Sample. However, the base decoding mode (based on current flags) is GenerationMode.BEAM_SEARCH -- some of the set flags will be ignored.\n",
      " 32%|███▏      | 50/156 [14:18<30:19, 17.16s/it]You've set `assistant_model`, which triggers assisted generate. Currently, assisted generate is only supported with Greedy Search and Sample. However, the base decoding mode (based on current flags) is GenerationMode.BEAM_SEARCH -- some of the set flags will be ignored.\n",
      " 33%|███▎      | 51/156 [14:35<30:01, 17.15s/it]You've set `assistant_model`, which triggers assisted generate. Currently, assisted generate is only supported with Greedy Search and Sample. However, the base decoding mode (based on current flags) is GenerationMode.BEAM_SEARCH -- some of the set flags will be ignored.\n",
      " 33%|███▎      | 52/156 [14:52<29:44, 17.16s/it]You've set `assistant_model`, which triggers assisted generate. Currently, assisted generate is only supported with Greedy Search and Sample. However, the base decoding mode (based on current flags) is GenerationMode.BEAM_SEARCH -- some of the set flags will be ignored.\n",
      " 34%|███▍      | 53/156 [15:09<29:25, 17.14s/it]You've set `assistant_model`, which triggers assisted generate. Currently, assisted generate is only supported with Greedy Search and Sample. However, the base decoding mode (based on current flags) is GenerationMode.BEAM_SEARCH -- some of the set flags will be ignored.\n",
      " 35%|███▍      | 54/156 [15:26<29:09, 17.15s/it]You've set `assistant_model`, which triggers assisted generate. Currently, assisted generate is only supported with Greedy Search and Sample. However, the base decoding mode (based on current flags) is GenerationMode.BEAM_SEARCH -- some of the set flags will be ignored.\n",
      " 35%|███▌      | 55/156 [15:43<28:50, 17.14s/it]You've set `assistant_model`, which triggers assisted generate. Currently, assisted generate is only supported with Greedy Search and Sample. However, the base decoding mode (based on current flags) is GenerationMode.BEAM_SEARCH -- some of the set flags will be ignored.\n",
      " 36%|███▌      | 56/156 [16:00<28:32, 17.13s/it]You've set `assistant_model`, which triggers assisted generate. Currently, assisted generate is only supported with Greedy Search and Sample. However, the base decoding mode (based on current flags) is GenerationMode.BEAM_SEARCH -- some of the set flags will be ignored.\n",
      " 37%|███▋      | 57/156 [16:17<28:12, 17.09s/it]You've set `assistant_model`, which triggers assisted generate. Currently, assisted generate is only supported with Greedy Search and Sample. However, the base decoding mode (based on current flags) is GenerationMode.BEAM_SEARCH -- some of the set flags will be ignored.\n",
      " 37%|███▋      | 58/156 [16:35<27:59, 17.14s/it]You've set `assistant_model`, which triggers assisted generate. Currently, assisted generate is only supported with Greedy Search and Sample. However, the base decoding mode (based on current flags) is GenerationMode.BEAM_SEARCH -- some of the set flags will be ignored.\n",
      " 38%|███▊      | 59/156 [16:52<27:42, 17.14s/it]You've set `assistant_model`, which triggers assisted generate. Currently, assisted generate is only supported with Greedy Search and Sample. However, the base decoding mode (based on current flags) is GenerationMode.BEAM_SEARCH -- some of the set flags will be ignored.\n",
      " 38%|███▊      | 60/156 [17:09<27:27, 17.16s/it]You've set `assistant_model`, which triggers assisted generate. Currently, assisted generate is only supported with Greedy Search and Sample. However, the base decoding mode (based on current flags) is GenerationMode.BEAM_SEARCH -- some of the set flags will be ignored.\n",
      " 39%|███▉      | 61/156 [17:26<27:11, 17.17s/it]You've set `assistant_model`, which triggers assisted generate. Currently, assisted generate is only supported with Greedy Search and Sample. However, the base decoding mode (based on current flags) is GenerationMode.BEAM_SEARCH -- some of the set flags will be ignored.\n",
      " 40%|███▉      | 62/156 [17:43<26:51, 17.14s/it]You've set `assistant_model`, which triggers assisted generate. Currently, assisted generate is only supported with Greedy Search and Sample. However, the base decoding mode (based on current flags) is GenerationMode.BEAM_SEARCH -- some of the set flags will be ignored.\n",
      " 40%|████      | 63/156 [18:00<26:30, 17.11s/it]You've set `assistant_model`, which triggers assisted generate. Currently, assisted generate is only supported with Greedy Search and Sample. However, the base decoding mode (based on current flags) is GenerationMode.BEAM_SEARCH -- some of the set flags will be ignored.\n",
      " 41%|████      | 64/156 [18:17<26:18, 17.15s/it]You've set `assistant_model`, which triggers assisted generate. Currently, assisted generate is only supported with Greedy Search and Sample. However, the base decoding mode (based on current flags) is GenerationMode.BEAM_SEARCH -- some of the set flags will be ignored.\n",
      " 42%|████▏     | 65/156 [18:35<26:01, 17.16s/it]You've set `assistant_model`, which triggers assisted generate. Currently, assisted generate is only supported with Greedy Search and Sample. However, the base decoding mode (based on current flags) is GenerationMode.BEAM_SEARCH -- some of the set flags will be ignored.\n",
      " 42%|████▏     | 66/156 [18:52<25:44, 17.16s/it]You've set `assistant_model`, which triggers assisted generate. Currently, assisted generate is only supported with Greedy Search and Sample. However, the base decoding mode (based on current flags) is GenerationMode.BEAM_SEARCH -- some of the set flags will be ignored.\n",
      " 43%|████▎     | 67/156 [19:09<25:26, 17.15s/it]You've set `assistant_model`, which triggers assisted generate. Currently, assisted generate is only supported with Greedy Search and Sample. However, the base decoding mode (based on current flags) is GenerationMode.BEAM_SEARCH -- some of the set flags will be ignored.\n",
      " 44%|████▎     | 68/156 [19:26<25:06, 17.12s/it]You've set `assistant_model`, which triggers assisted generate. Currently, assisted generate is only supported with Greedy Search and Sample. However, the base decoding mode (based on current flags) is GenerationMode.BEAM_SEARCH -- some of the set flags will be ignored.\n",
      " 44%|████▍     | 69/156 [19:43<24:48, 17.11s/it]You've set `assistant_model`, which triggers assisted generate. Currently, assisted generate is only supported with Greedy Search and Sample. However, the base decoding mode (based on current flags) is GenerationMode.BEAM_SEARCH -- some of the set flags will be ignored.\n",
      " 45%|████▍     | 70/156 [20:00<24:28, 17.08s/it]You've set `assistant_model`, which triggers assisted generate. Currently, assisted generate is only supported with Greedy Search and Sample. However, the base decoding mode (based on current flags) is GenerationMode.BEAM_SEARCH -- some of the set flags will be ignored.\n",
      " 46%|████▌     | 71/156 [20:17<24:12, 17.09s/it]You've set `assistant_model`, which triggers assisted generate. Currently, assisted generate is only supported with Greedy Search and Sample. However, the base decoding mode (based on current flags) is GenerationMode.BEAM_SEARCH -- some of the set flags will be ignored.\n",
      " 46%|████▌     | 72/156 [20:34<23:56, 17.10s/it]You've set `assistant_model`, which triggers assisted generate. Currently, assisted generate is only supported with Greedy Search and Sample. However, the base decoding mode (based on current flags) is GenerationMode.BEAM_SEARCH -- some of the set flags will be ignored.\n",
      " 47%|████▋     | 73/156 [20:51<23:38, 17.09s/it]You've set `assistant_model`, which triggers assisted generate. Currently, assisted generate is only supported with Greedy Search and Sample. However, the base decoding mode (based on current flags) is GenerationMode.BEAM_SEARCH -- some of the set flags will be ignored.\n",
      " 47%|████▋     | 74/156 [21:08<23:20, 17.08s/it]You've set `assistant_model`, which triggers assisted generate. Currently, assisted generate is only supported with Greedy Search and Sample. However, the base decoding mode (based on current flags) is GenerationMode.BEAM_SEARCH -- some of the set flags will be ignored.\n",
      " 48%|████▊     | 75/156 [21:25<23:00, 17.05s/it]You've set `assistant_model`, which triggers assisted generate. Currently, assisted generate is only supported with Greedy Search and Sample. However, the base decoding mode (based on current flags) is GenerationMode.BEAM_SEARCH -- some of the set flags will be ignored.\n",
      " 49%|████▊     | 76/156 [21:43<22:44, 17.06s/it]You've set `assistant_model`, which triggers assisted generate. Currently, assisted generate is only supported with Greedy Search and Sample. However, the base decoding mode (based on current flags) is GenerationMode.BEAM_SEARCH -- some of the set flags will be ignored.\n",
      " 49%|████▉     | 77/156 [22:00<22:29, 17.08s/it]You've set `assistant_model`, which triggers assisted generate. Currently, assisted generate is only supported with Greedy Search and Sample. However, the base decoding mode (based on current flags) is GenerationMode.BEAM_SEARCH -- some of the set flags will be ignored.\n",
      " 50%|█████     | 78/156 [22:17<22:13, 17.10s/it]You've set `assistant_model`, which triggers assisted generate. Currently, assisted generate is only supported with Greedy Search and Sample. However, the base decoding mode (based on current flags) is GenerationMode.BEAM_SEARCH -- some of the set flags will be ignored.\n",
      " 51%|█████     | 79/156 [22:34<21:56, 17.09s/it]You've set `assistant_model`, which triggers assisted generate. Currently, assisted generate is only supported with Greedy Search and Sample. However, the base decoding mode (based on current flags) is GenerationMode.BEAM_SEARCH -- some of the set flags will be ignored.\n",
      " 51%|█████▏    | 80/156 [22:51<21:41, 17.12s/it]You've set `assistant_model`, which triggers assisted generate. Currently, assisted generate is only supported with Greedy Search and Sample. However, the base decoding mode (based on current flags) is GenerationMode.BEAM_SEARCH -- some of the set flags will be ignored.\n",
      " 52%|█████▏    | 81/156 [23:08<21:25, 17.14s/it]You've set `assistant_model`, which triggers assisted generate. Currently, assisted generate is only supported with Greedy Search and Sample. However, the base decoding mode (based on current flags) is GenerationMode.BEAM_SEARCH -- some of the set flags will be ignored.\n",
      " 53%|█████▎    | 82/156 [23:25<21:07, 17.13s/it]You've set `assistant_model`, which triggers assisted generate. Currently, assisted generate is only supported with Greedy Search and Sample. However, the base decoding mode (based on current flags) is GenerationMode.BEAM_SEARCH -- some of the set flags will be ignored.\n",
      " 53%|█████▎    | 83/156 [23:42<20:50, 17.13s/it]You've set `assistant_model`, which triggers assisted generate. Currently, assisted generate is only supported with Greedy Search and Sample. However, the base decoding mode (based on current flags) is GenerationMode.BEAM_SEARCH -- some of the set flags will be ignored.\n",
      " 54%|█████▍    | 84/156 [23:59<20:29, 17.08s/it]You've set `assistant_model`, which triggers assisted generate. Currently, assisted generate is only supported with Greedy Search and Sample. However, the base decoding mode (based on current flags) is GenerationMode.BEAM_SEARCH -- some of the set flags will be ignored.\n",
      " 54%|█████▍    | 85/156 [24:17<20:16, 17.14s/it]You've set `assistant_model`, which triggers assisted generate. Currently, assisted generate is only supported with Greedy Search and Sample. However, the base decoding mode (based on current flags) is GenerationMode.BEAM_SEARCH -- some of the set flags will be ignored.\n",
      " 55%|█████▌    | 86/156 [24:34<19:57, 17.10s/it]You've set `assistant_model`, which triggers assisted generate. Currently, assisted generate is only supported with Greedy Search and Sample. However, the base decoding mode (based on current flags) is GenerationMode.BEAM_SEARCH -- some of the set flags will be ignored.\n",
      " 56%|█████▌    | 87/156 [24:51<19:38, 17.09s/it]You've set `assistant_model`, which triggers assisted generate. Currently, assisted generate is only supported with Greedy Search and Sample. However, the base decoding mode (based on current flags) is GenerationMode.BEAM_SEARCH -- some of the set flags will be ignored.\n",
      " 56%|█████▋    | 88/156 [25:08<19:21, 17.08s/it]You've set `assistant_model`, which triggers assisted generate. Currently, assisted generate is only supported with Greedy Search and Sample. However, the base decoding mode (based on current flags) is GenerationMode.BEAM_SEARCH -- some of the set flags will be ignored.\n",
      " 57%|█████▋    | 89/156 [25:25<19:04, 17.08s/it]You've set `assistant_model`, which triggers assisted generate. Currently, assisted generate is only supported with Greedy Search and Sample. However, the base decoding mode (based on current flags) is GenerationMode.BEAM_SEARCH -- some of the set flags will be ignored.\n",
      " 58%|█████▊    | 90/156 [25:42<18:47, 17.08s/it]You've set `assistant_model`, which triggers assisted generate. Currently, assisted generate is only supported with Greedy Search and Sample. However, the base decoding mode (based on current flags) is GenerationMode.BEAM_SEARCH -- some of the set flags will be ignored.\n",
      " 58%|█████▊    | 91/156 [25:59<18:32, 17.12s/it]You've set `assistant_model`, which triggers assisted generate. Currently, assisted generate is only supported with Greedy Search and Sample. However, the base decoding mode (based on current flags) is GenerationMode.BEAM_SEARCH -- some of the set flags will be ignored.\n",
      " 59%|█████▉    | 92/156 [26:16<18:16, 17.14s/it]You've set `assistant_model`, which triggers assisted generate. Currently, assisted generate is only supported with Greedy Search and Sample. However, the base decoding mode (based on current flags) is GenerationMode.BEAM_SEARCH -- some of the set flags will be ignored.\n",
      " 60%|█████▉    | 93/156 [26:33<17:57, 17.11s/it]You've set `assistant_model`, which triggers assisted generate. Currently, assisted generate is only supported with Greedy Search and Sample. However, the base decoding mode (based on current flags) is GenerationMode.BEAM_SEARCH -- some of the set flags will be ignored.\n",
      " 60%|██████    | 94/156 [26:50<17:39, 17.09s/it]You've set `assistant_model`, which triggers assisted generate. Currently, assisted generate is only supported with Greedy Search and Sample. However, the base decoding mode (based on current flags) is GenerationMode.BEAM_SEARCH -- some of the set flags will be ignored.\n",
      " 61%|██████    | 95/156 [27:08<17:21, 17.07s/it]You've set `assistant_model`, which triggers assisted generate. Currently, assisted generate is only supported with Greedy Search and Sample. However, the base decoding mode (based on current flags) is GenerationMode.BEAM_SEARCH -- some of the set flags will be ignored.\n",
      " 62%|██████▏   | 96/156 [27:25<17:06, 17.11s/it]You've set `assistant_model`, which triggers assisted generate. Currently, assisted generate is only supported with Greedy Search and Sample. However, the base decoding mode (based on current flags) is GenerationMode.BEAM_SEARCH -- some of the set flags will be ignored.\n",
      " 62%|██████▏   | 97/156 [27:42<16:48, 17.09s/it]You've set `assistant_model`, which triggers assisted generate. Currently, assisted generate is only supported with Greedy Search and Sample. However, the base decoding mode (based on current flags) is GenerationMode.BEAM_SEARCH -- some of the set flags will be ignored.\n",
      " 63%|██████▎   | 98/156 [27:59<16:30, 17.07s/it]You've set `assistant_model`, which triggers assisted generate. Currently, assisted generate is only supported with Greedy Search and Sample. However, the base decoding mode (based on current flags) is GenerationMode.BEAM_SEARCH -- some of the set flags will be ignored.\n",
      " 63%|██████▎   | 99/156 [28:16<16:12, 17.07s/it]You've set `assistant_model`, which triggers assisted generate. Currently, assisted generate is only supported with Greedy Search and Sample. However, the base decoding mode (based on current flags) is GenerationMode.BEAM_SEARCH -- some of the set flags will be ignored.\n",
      " 64%|██████▍   | 100/156 [28:33<15:56, 17.08s/it]You've set `assistant_model`, which triggers assisted generate. Currently, assisted generate is only supported with Greedy Search and Sample. However, the base decoding mode (based on current flags) is GenerationMode.BEAM_SEARCH -- some of the set flags will be ignored.\n",
      " 65%|██████▍   | 101/156 [28:50<15:40, 17.10s/it]You've set `assistant_model`, which triggers assisted generate. Currently, assisted generate is only supported with Greedy Search and Sample. However, the base decoding mode (based on current flags) is GenerationMode.BEAM_SEARCH -- some of the set flags will be ignored.\n",
      " 65%|██████▌   | 102/156 [29:07<15:26, 17.15s/it]You've set `assistant_model`, which triggers assisted generate. Currently, assisted generate is only supported with Greedy Search and Sample. However, the base decoding mode (based on current flags) is GenerationMode.BEAM_SEARCH -- some of the set flags will be ignored.\n",
      " 66%|██████▌   | 103/156 [29:25<15:09, 17.16s/it]You've set `assistant_model`, which triggers assisted generate. Currently, assisted generate is only supported with Greedy Search and Sample. However, the base decoding mode (based on current flags) is GenerationMode.BEAM_SEARCH -- some of the set flags will be ignored.\n",
      " 67%|██████▋   | 104/156 [29:42<14:52, 17.16s/it]You've set `assistant_model`, which triggers assisted generate. Currently, assisted generate is only supported with Greedy Search and Sample. However, the base decoding mode (based on current flags) is GenerationMode.BEAM_SEARCH -- some of the set flags will be ignored.\n",
      " 67%|██████▋   | 105/156 [29:59<14:35, 17.16s/it]You've set `assistant_model`, which triggers assisted generate. Currently, assisted generate is only supported with Greedy Search and Sample. However, the base decoding mode (based on current flags) is GenerationMode.BEAM_SEARCH -- some of the set flags will be ignored.\n",
      " 68%|██████▊   | 106/156 [30:16<14:18, 17.16s/it]You've set `assistant_model`, which triggers assisted generate. Currently, assisted generate is only supported with Greedy Search and Sample. However, the base decoding mode (based on current flags) is GenerationMode.BEAM_SEARCH -- some of the set flags will be ignored.\n",
      " 69%|██████▊   | 107/156 [30:33<14:01, 17.17s/it]You've set `assistant_model`, which triggers assisted generate. Currently, assisted generate is only supported with Greedy Search and Sample. However, the base decoding mode (based on current flags) is GenerationMode.BEAM_SEARCH -- some of the set flags will be ignored.\n",
      " 69%|██████▉   | 108/156 [30:50<13:41, 17.11s/it]You've set `assistant_model`, which triggers assisted generate. Currently, assisted generate is only supported with Greedy Search and Sample. However, the base decoding mode (based on current flags) is GenerationMode.BEAM_SEARCH -- some of the set flags will be ignored.\n",
      " 70%|██████▉   | 109/156 [31:07<13:24, 17.12s/it]You've set `assistant_model`, which triggers assisted generate. Currently, assisted generate is only supported with Greedy Search and Sample. However, the base decoding mode (based on current flags) is GenerationMode.BEAM_SEARCH -- some of the set flags will be ignored.\n",
      " 71%|███████   | 110/156 [31:24<13:07, 17.13s/it]You've set `assistant_model`, which triggers assisted generate. Currently, assisted generate is only supported with Greedy Search and Sample. However, the base decoding mode (based on current flags) is GenerationMode.BEAM_SEARCH -- some of the set flags will be ignored.\n",
      " 71%|███████   | 111/156 [31:42<12:50, 17.12s/it]You've set `assistant_model`, which triggers assisted generate. Currently, assisted generate is only supported with Greedy Search and Sample. However, the base decoding mode (based on current flags) is GenerationMode.BEAM_SEARCH -- some of the set flags will be ignored.\n",
      " 72%|███████▏  | 112/156 [31:59<12:32, 17.10s/it]You've set `assistant_model`, which triggers assisted generate. Currently, assisted generate is only supported with Greedy Search and Sample. However, the base decoding mode (based on current flags) is GenerationMode.BEAM_SEARCH -- some of the set flags will be ignored.\n",
      " 72%|███████▏  | 113/156 [32:16<12:16, 17.13s/it]You've set `assistant_model`, which triggers assisted generate. Currently, assisted generate is only supported with Greedy Search and Sample. However, the base decoding mode (based on current flags) is GenerationMode.BEAM_SEARCH -- some of the set flags will be ignored.\n",
      " 73%|███████▎  | 114/156 [32:33<11:58, 17.11s/it]You've set `assistant_model`, which triggers assisted generate. Currently, assisted generate is only supported with Greedy Search and Sample. However, the base decoding mode (based on current flags) is GenerationMode.BEAM_SEARCH -- some of the set flags will be ignored.\n",
      " 74%|███████▎  | 115/156 [32:50<11:41, 17.10s/it]You've set `assistant_model`, which triggers assisted generate. Currently, assisted generate is only supported with Greedy Search and Sample. However, the base decoding mode (based on current flags) is GenerationMode.BEAM_SEARCH -- some of the set flags will be ignored.\n",
      " 74%|███████▍  | 116/156 [33:07<11:24, 17.10s/it]You've set `assistant_model`, which triggers assisted generate. Currently, assisted generate is only supported with Greedy Search and Sample. However, the base decoding mode (based on current flags) is GenerationMode.BEAM_SEARCH -- some of the set flags will be ignored.\n",
      " 75%|███████▌  | 117/156 [33:24<11:07, 17.11s/it]You've set `assistant_model`, which triggers assisted generate. Currently, assisted generate is only supported with Greedy Search and Sample. However, the base decoding mode (based on current flags) is GenerationMode.BEAM_SEARCH -- some of the set flags will be ignored.\n",
      " 76%|███████▌  | 118/156 [33:41<10:50, 17.11s/it]You've set `assistant_model`, which triggers assisted generate. Currently, assisted generate is only supported with Greedy Search and Sample. However, the base decoding mode (based on current flags) is GenerationMode.BEAM_SEARCH -- some of the set flags will be ignored.\n",
      " 76%|███████▋  | 119/156 [33:58<10:31, 17.08s/it]You've set `assistant_model`, which triggers assisted generate. Currently, assisted generate is only supported with Greedy Search and Sample. However, the base decoding mode (based on current flags) is GenerationMode.BEAM_SEARCH -- some of the set flags will be ignored.\n",
      " 77%|███████▋  | 120/156 [34:15<10:15, 17.09s/it]You've set `assistant_model`, which triggers assisted generate. Currently, assisted generate is only supported with Greedy Search and Sample. However, the base decoding mode (based on current flags) is GenerationMode.BEAM_SEARCH -- some of the set flags will be ignored.\n",
      " 78%|███████▊  | 121/156 [34:33<09:59, 17.12s/it]You've set `assistant_model`, which triggers assisted generate. Currently, assisted generate is only supported with Greedy Search and Sample. However, the base decoding mode (based on current flags) is GenerationMode.BEAM_SEARCH -- some of the set flags will be ignored.\n",
      " 78%|███████▊  | 122/156 [34:50<09:41, 17.12s/it]You've set `assistant_model`, which triggers assisted generate. Currently, assisted generate is only supported with Greedy Search and Sample. However, the base decoding mode (based on current flags) is GenerationMode.BEAM_SEARCH -- some of the set flags will be ignored.\n",
      " 79%|███████▉  | 123/156 [35:07<09:23, 17.09s/it]You've set `assistant_model`, which triggers assisted generate. Currently, assisted generate is only supported with Greedy Search and Sample. However, the base decoding mode (based on current flags) is GenerationMode.BEAM_SEARCH -- some of the set flags will be ignored.\n",
      " 79%|███████▉  | 124/156 [35:24<09:06, 17.09s/it]You've set `assistant_model`, which triggers assisted generate. Currently, assisted generate is only supported with Greedy Search and Sample. However, the base decoding mode (based on current flags) is GenerationMode.BEAM_SEARCH -- some of the set flags will be ignored.\n",
      " 80%|████████  | 125/156 [35:41<08:49, 17.07s/it]You've set `assistant_model`, which triggers assisted generate. Currently, assisted generate is only supported with Greedy Search and Sample. However, the base decoding mode (based on current flags) is GenerationMode.BEAM_SEARCH -- some of the set flags will be ignored.\n",
      " 81%|████████  | 126/156 [35:58<08:32, 17.09s/it]You've set `assistant_model`, which triggers assisted generate. Currently, assisted generate is only supported with Greedy Search and Sample. However, the base decoding mode (based on current flags) is GenerationMode.BEAM_SEARCH -- some of the set flags will be ignored.\n",
      " 81%|████████▏ | 127/156 [36:15<08:15, 17.07s/it]You've set `assistant_model`, which triggers assisted generate. Currently, assisted generate is only supported with Greedy Search and Sample. However, the base decoding mode (based on current flags) is GenerationMode.BEAM_SEARCH -- some of the set flags will be ignored.\n",
      " 82%|████████▏ | 128/156 [36:32<07:57, 17.06s/it]You've set `assistant_model`, which triggers assisted generate. Currently, assisted generate is only supported with Greedy Search and Sample. However, the base decoding mode (based on current flags) is GenerationMode.BEAM_SEARCH -- some of the set flags will be ignored.\n",
      " 83%|████████▎ | 129/156 [36:49<07:41, 17.08s/it]You've set `assistant_model`, which triggers assisted generate. Currently, assisted generate is only supported with Greedy Search and Sample. However, the base decoding mode (based on current flags) is GenerationMode.BEAM_SEARCH -- some of the set flags will be ignored.\n",
      " 83%|████████▎ | 130/156 [37:06<07:22, 17.02s/it]You've set `assistant_model`, which triggers assisted generate. Currently, assisted generate is only supported with Greedy Search and Sample. However, the base decoding mode (based on current flags) is GenerationMode.BEAM_SEARCH -- some of the set flags will be ignored.\n",
      " 84%|████████▍ | 131/156 [37:23<07:05, 17.03s/it]You've set `assistant_model`, which triggers assisted generate. Currently, assisted generate is only supported with Greedy Search and Sample. However, the base decoding mode (based on current flags) is GenerationMode.BEAM_SEARCH -- some of the set flags will be ignored.\n",
      " 85%|████████▍ | 132/156 [37:40<06:49, 17.04s/it]You've set `assistant_model`, which triggers assisted generate. Currently, assisted generate is only supported with Greedy Search and Sample. However, the base decoding mode (based on current flags) is GenerationMode.BEAM_SEARCH -- some of the set flags will be ignored.\n",
      " 85%|████████▌ | 133/156 [37:57<06:32, 17.06s/it]You've set `assistant_model`, which triggers assisted generate. Currently, assisted generate is only supported with Greedy Search and Sample. However, the base decoding mode (based on current flags) is GenerationMode.BEAM_SEARCH -- some of the set flags will be ignored.\n",
      " 86%|████████▌ | 134/156 [38:14<06:16, 17.09s/it]You've set `assistant_model`, which triggers assisted generate. Currently, assisted generate is only supported with Greedy Search and Sample. However, the base decoding mode (based on current flags) is GenerationMode.BEAM_SEARCH -- some of the set flags will be ignored.\n",
      " 87%|████████▋ | 135/156 [38:31<05:58, 17.07s/it]You've set `assistant_model`, which triggers assisted generate. Currently, assisted generate is only supported with Greedy Search and Sample. However, the base decoding mode (based on current flags) is GenerationMode.BEAM_SEARCH -- some of the set flags will be ignored.\n",
      " 87%|████████▋ | 136/156 [38:48<05:41, 17.05s/it]You've set `assistant_model`, which triggers assisted generate. Currently, assisted generate is only supported with Greedy Search and Sample. However, the base decoding mode (based on current flags) is GenerationMode.BEAM_SEARCH -- some of the set flags will be ignored.\n",
      " 88%|████████▊ | 137/156 [39:06<05:24, 17.06s/it]You've set `assistant_model`, which triggers assisted generate. Currently, assisted generate is only supported with Greedy Search and Sample. However, the base decoding mode (based on current flags) is GenerationMode.BEAM_SEARCH -- some of the set flags will be ignored.\n",
      " 88%|████████▊ | 138/156 [39:23<05:07, 17.07s/it]You've set `assistant_model`, which triggers assisted generate. Currently, assisted generate is only supported with Greedy Search and Sample. However, the base decoding mode (based on current flags) is GenerationMode.BEAM_SEARCH -- some of the set flags will be ignored.\n",
      " 89%|████████▉ | 139/156 [39:40<04:50, 17.08s/it]You've set `assistant_model`, which triggers assisted generate. Currently, assisted generate is only supported with Greedy Search and Sample. However, the base decoding mode (based on current flags) is GenerationMode.BEAM_SEARCH -- some of the set flags will be ignored.\n",
      " 90%|████████▉ | 140/156 [39:57<04:32, 17.06s/it]You've set `assistant_model`, which triggers assisted generate. Currently, assisted generate is only supported with Greedy Search and Sample. However, the base decoding mode (based on current flags) is GenerationMode.BEAM_SEARCH -- some of the set flags will be ignored.\n",
      " 90%|█████████ | 141/156 [40:14<04:15, 17.04s/it]You've set `assistant_model`, which triggers assisted generate. Currently, assisted generate is only supported with Greedy Search and Sample. However, the base decoding mode (based on current flags) is GenerationMode.BEAM_SEARCH -- some of the set flags will be ignored.\n",
      " 91%|█████████ | 142/156 [40:31<03:58, 17.05s/it]You've set `assistant_model`, which triggers assisted generate. Currently, assisted generate is only supported with Greedy Search and Sample. However, the base decoding mode (based on current flags) is GenerationMode.BEAM_SEARCH -- some of the set flags will be ignored.\n",
      " 92%|█████████▏| 143/156 [40:48<03:41, 17.03s/it]You've set `assistant_model`, which triggers assisted generate. Currently, assisted generate is only supported with Greedy Search and Sample. However, the base decoding mode (based on current flags) is GenerationMode.BEAM_SEARCH -- some of the set flags will be ignored.\n",
      " 92%|█████████▏| 144/156 [41:05<03:24, 17.06s/it]You've set `assistant_model`, which triggers assisted generate. Currently, assisted generate is only supported with Greedy Search and Sample. However, the base decoding mode (based on current flags) is GenerationMode.BEAM_SEARCH -- some of the set flags will be ignored.\n",
      " 93%|█████████▎| 145/156 [41:22<03:07, 17.07s/it]You've set `assistant_model`, which triggers assisted generate. Currently, assisted generate is only supported with Greedy Search and Sample. However, the base decoding mode (based on current flags) is GenerationMode.BEAM_SEARCH -- some of the set flags will be ignored.\n",
      " 94%|█████████▎| 146/156 [41:39<02:50, 17.08s/it]You've set `assistant_model`, which triggers assisted generate. Currently, assisted generate is only supported with Greedy Search and Sample. However, the base decoding mode (based on current flags) is GenerationMode.BEAM_SEARCH -- some of the set flags will be ignored.\n",
      " 94%|█████████▍| 147/156 [41:56<02:33, 17.07s/it]You've set `assistant_model`, which triggers assisted generate. Currently, assisted generate is only supported with Greedy Search and Sample. However, the base decoding mode (based on current flags) is GenerationMode.BEAM_SEARCH -- some of the set flags will be ignored.\n",
      " 95%|█████████▍| 148/156 [42:13<02:16, 17.09s/it]You've set `assistant_model`, which triggers assisted generate. Currently, assisted generate is only supported with Greedy Search and Sample. However, the base decoding mode (based on current flags) is GenerationMode.BEAM_SEARCH -- some of the set flags will be ignored.\n",
      " 96%|█████████▌| 149/156 [42:30<01:59, 17.06s/it]You've set `assistant_model`, which triggers assisted generate. Currently, assisted generate is only supported with Greedy Search and Sample. However, the base decoding mode (based on current flags) is GenerationMode.BEAM_SEARCH -- some of the set flags will be ignored.\n",
      " 96%|█████████▌| 150/156 [42:47<01:42, 17.04s/it]You've set `assistant_model`, which triggers assisted generate. Currently, assisted generate is only supported with Greedy Search and Sample. However, the base decoding mode (based on current flags) is GenerationMode.BEAM_SEARCH -- some of the set flags will be ignored.\n",
      " 97%|█████████▋| 151/156 [43:04<01:25, 17.07s/it]You've set `assistant_model`, which triggers assisted generate. Currently, assisted generate is only supported with Greedy Search and Sample. However, the base decoding mode (based on current flags) is GenerationMode.BEAM_SEARCH -- some of the set flags will be ignored.\n",
      " 97%|█████████▋| 152/156 [43:22<01:08, 17.08s/it]You've set `assistant_model`, which triggers assisted generate. Currently, assisted generate is only supported with Greedy Search and Sample. However, the base decoding mode (based on current flags) is GenerationMode.BEAM_SEARCH -- some of the set flags will be ignored.\n",
      " 98%|█████████▊| 153/156 [43:39<00:51, 17.08s/it]You've set `assistant_model`, which triggers assisted generate. Currently, assisted generate is only supported with Greedy Search and Sample. However, the base decoding mode (based on current flags) is GenerationMode.BEAM_SEARCH -- some of the set flags will be ignored.\n",
      " 99%|█████████▊| 154/156 [43:56<00:34, 17.08s/it]You've set `assistant_model`, which triggers assisted generate. Currently, assisted generate is only supported with Greedy Search and Sample. However, the base decoding mode (based on current flags) is GenerationMode.BEAM_SEARCH -- some of the set flags will be ignored.\n",
      " 99%|█████████▉| 155/156 [44:13<00:17, 17.09s/it]You've set `assistant_model`, which triggers assisted generate. Currently, assisted generate is only supported with Greedy Search and Sample. However, the base decoding mode (based on current flags) is GenerationMode.BEAM_SEARCH -- some of the set flags will be ignored.\n",
      "100%|██████████| 156/156 [44:30<00:00, 17.12s/it]\n"
     ]
    }
   ],
   "source": [
    "predictions = []\n",
    "references = []\n",
    "\n",
    "for batch in tqdm(df_test):\n",
    "    # Convert each field to a tensor\n",
    "    input_ids = torch.tensor(batch[\"input_ids\"]).unsqueeze(0).to(device)          # [1, seq_len]\n",
    "    attention_mask = torch.tensor(batch[\"attention_mask\"]).unsqueeze(0).to(device)\n",
    "    labels = torch.tensor(batch[\"labels\"]).unsqueeze(0).to(device)\n",
    "    \n",
    "    with torch.no_grad():\n",
    "        generated_ids = model.generate(\n",
    "            input_ids=input_ids,\n",
    "            attention_mask=attention_mask,\n",
    "            max_new_tokens=128,\n",
    "            num_beams=4,\n",
    "            do_sample=False,\n",
    "        )\n",
    "    \n",
    "    # Trim input from generated\n",
    "    input_length = input_ids.shape[1]\n",
    "    generated_ids = generated_ids[:, input_length:]\n",
    "    \n",
    "    # Decode\n",
    "    decoded_preds = tokenizer.batch_decode(generated_ids, skip_special_tokens=True)\n",
    "    labels[labels == -100] = tokenizer.pad_token_id\n",
    "    decoded_refs = tokenizer.batch_decode(labels, skip_special_tokens=True)\n",
    "    \n",
    "    predictions.extend(decoded_preds)\n",
    "    references.extend(decoded_refs)\n"
   ]
  },
  {
   "cell_type": "code",
   "execution_count": 37,
   "metadata": {
    "execution": {
     "iopub.execute_input": "2025-07-20T10:25:11.268929Z",
     "iopub.status.busy": "2025-07-20T10:25:11.268562Z",
     "iopub.status.idle": "2025-07-20T10:25:16.831167Z",
     "shell.execute_reply": "2025-07-20T10:25:16.830269Z",
     "shell.execute_reply.started": "2025-07-20T10:25:11.268889Z"
    },
    "trusted": true
   },
   "outputs": [
    {
     "name": "stdout",
     "output_type": "stream",
     "text": [
      "BERTScore:\n"
     ]
    }
   ],
   "source": [
    "# Evaluate BERTScore\n",
    "bertscore_result = bertscore.compute(predictions=predictions, references=references, lang=\"en\")"
   ]
  },
  {
   "cell_type": "code",
   "execution_count": 38,
   "metadata": {
    "execution": {
     "iopub.execute_input": "2025-07-20T10:25:47.322640Z",
     "iopub.status.busy": "2025-07-20T10:25:47.322354Z",
     "iopub.status.idle": "2025-07-20T10:25:47.327370Z",
     "shell.execute_reply": "2025-07-20T10:25:47.326685Z",
     "shell.execute_reply.started": "2025-07-20T10:25:47.322619Z"
    },
    "trusted": true
   },
   "outputs": [
    {
     "name": "stdout",
     "output_type": "stream",
     "text": [
      "BERTScore:\n",
      "precision : 0.7450296359184461\n",
      "recall : 0.8166497269502053\n",
      "f1 : 0.7782353988060584\n"
     ]
    }
   ],
   "source": [
    "print(\"BERTScore:\")\n",
    "\n",
    "for score in bertscore_result  : \n",
    "    if score != 'hashcode':\n",
    "        result = np.array(bertscore_result[score]).mean()\n",
    "        print(f'{score} : {result}')"
   ]
  }
 ],
 "metadata": {
  "accelerator": "GPU",
  "colab": {
   "gpuType": "T4",
   "provenance": []
  },
  "kaggle": {
   "accelerator": "nvidiaTeslaT4",
   "dataSources": [
    {
     "datasetId": 64826,
     "sourceId": 127612,
     "sourceType": "datasetVersion"
    }
   ],
   "dockerImageVersionId": 31090,
   "isGpuEnabled": true,
   "isInternetEnabled": true,
   "language": "python",
   "sourceType": "notebook"
  },
  "kernelspec": {
   "display_name": "Python 3",
   "language": "python",
   "name": "python3"
  },
  "language_info": {
   "codemirror_mode": {
    "name": "ipython",
    "version": 3
   },
   "file_extension": ".py",
   "mimetype": "text/x-python",
   "name": "python",
   "nbconvert_exporter": "python",
   "pygments_lexer": "ipython3",
   "version": "3.11.13"
  },
  "widgets": {
   "application/vnd.jupyter.widget-state+json": {}
  }
 },
 "nbformat": 4,
 "nbformat_minor": 4
}
